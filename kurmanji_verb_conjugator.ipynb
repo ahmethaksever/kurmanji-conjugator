{
  "nbformat": 4,
  "nbformat_minor": 0,
  "metadata": {
    "colab": {
      "provenance": []
    },
    "kernelspec": {
      "name": "python3",
      "display_name": "Python 3"
    },
    "language_info": {
      "name": "python"
    }
  },
  "cells": [
    {
      "cell_type": "code",
      "execution_count": 1,
      "metadata": {
        "colab": {
          "base_uri": "https://localhost:8080/"
        },
        "id": "upp1NzZDrEvI",
        "outputId": "40037e21-d634-4ba8-e524-b6734e48a620"
      },
      "outputs": [
        {
          "output_type": "stream",
          "name": "stdout",
          "text": [
            "Looking in indexes: https://pypi.org/simple, https://us-python.pkg.dev/colab-wheels/public/simple/\n",
            "Collecting hfst-dev\n",
            "  Downloading hfst_dev-3.15.0.10b0-cp310-cp310-manylinux_2_12_x86_64.manylinux2010_x86_64.whl (53.8 MB)\n",
            "\u001b[2K     \u001b[90m━━━━━━━━━━━━━━━━━━━━━━━━━━━━━━━━━━━━━━━━\u001b[0m \u001b[32m53.8/53.8 MB\u001b[0m \u001b[31m11.3 MB/s\u001b[0m eta \u001b[36m0:00:00\u001b[0m\n",
            "\u001b[?25hInstalling collected packages: hfst-dev\n",
            "Successfully installed hfst-dev-3.15.0.10b0\n"
          ]
        }
      ],
      "source": [
        "!pip install hfst-dev\n",
        "import hfst_dev\n",
        "from hfst_dev import fst, regex, disjunct, intersect, concatenate, compose, compile_lexc_script, compile_lexc_file, HfstTransducer, XfstCompiler, compile_xfst_script, subtract\n",
        "import re\n",
        "import json"
      ]
    },
    {
      "cell_type": "code",
      "source": [
        "dictionary = []\n",
        "with open('leker-kurmanji.json', 'r') as f:\n",
        "  first_dictionary = json.load(f)\n",
        "  for i in first_dictionary:\n",
        "    new_i = {\"word\":i.get(\"word\"), \"meaning\":i.get(\"meanings\")[0].get(\"translation\")}\n",
        "    dictionary.append(new_i)\n",
        "print(dictionary)"
      ],
      "metadata": {
        "colab": {
          "base_uri": "https://localhost:8080/"
        },
        "id": "1v2YJUrirWD3",
        "outputId": "e284d518-33f1-4fba-ec46-f9786d3a79f3"
      },
      "execution_count": 2,
      "outputs": [
        {
          "output_type": "stream",
          "name": "stdout",
          "text": [
            "[{'word': 'aborandin', 'meaning': 'geçindirmek'}, {'word': 'aborîn', 'meaning': 'geçinmek'}, {'word': 'acizbûn', 'meaning': 'aciz olmak'}, {'word': 'acizkirin', 'meaning': 'aciz etmek'}, {'word': 'adaptebûn', 'meaning': 'adapte olmak'}, {'word': 'adaptekirin', 'meaning': 'adapte  yapmak'}, {'word': 'afirandin', 'meaning': 'yaratmak'}, {'word': 'afirîn', 'meaning': 'oluşmak, yaratılmak'}, {'word': 'agahdarkirin', 'meaning': 'haber  vermek'}, {'word': 'agirkirin', 'meaning': 'ateş etmek'}, {'word': 'ajotin', 'meaning': '1-sürmek 2-yürütmek'}, {'word': 'alandin', 'meaning': 'sarmak,  sarmalamak'}, {'word': 'alastin', 'meaning': 'yalamak'}, {'word': 'alifdan', 'meaning': 'yem vermek'}, {'word': 'aliqandin', 'meaning': 'asmak'}, {'word': 'alîkarîkirin', 'meaning': 'yardım etmek'}, {'word': 'alîkirin', 'meaning': 'yardım etmek'}, {'word': 'alîn', 'meaning': '1-dönmek 2-karıştırmak'}, {'word': 'alûbûn', 'meaning': 'kamaşmak'}, {'word': 'amadebûn', 'meaning': 'hazırlanmak'}, {'word': 'anîn', 'meaning': 'getirmek'}, {'word': 'anînbîr', 'meaning': 'hatırlatmak'}, {'word': 'aqildan', 'meaning': 'akıl vermek'}, {'word': 'arambûn', 'meaning': 'sakin olmak'}, {'word': 'arandin', 'meaning': 'incitmek'}, {'word': 'arastin', 'meaning': 'süslemek'}, {'word': 'arihîn', 'meaning': 'acımak, ağrımak'}, {'word': 'arimîn', 'meaning': 'dinlenmek'}, {'word': 'asanbûn', 'meaning': 'kolay olmak'}, {'word': 'asayîbûn', 'meaning': 'olağan olmak'}, {'word': 'asayîkirin', 'meaning': 'olağanlaştırmak'}, {'word': 'asêbûn', 'meaning': 'kapanmak, tıkanmak'}, {'word': 'asêkirirn', 'meaning': 'kapatmak, tıkamak'}, {'word': 'astengbûn', 'meaning': 'engel olmak'}, {'word': 'aşbûn', 'meaning': 'yatışmak'}, {'word': 'aşêvkirin', 'meaning': 'ayıklamak'}, {'word': 'aşopkirin', 'meaning': 'hayal etmek'}, {'word': 'avabûn', 'meaning': 'inşa olmak'}, {'word': 'avakirin', 'meaning': 'kurmak, inşa etmek'}, {'word': 'avdan', 'meaning': 'sulamak'}, {'word': 'avêtin', 'meaning': 'atmak, fırlatmak'}, {'word': 'avisbûn', 'meaning': 'gebe olmak'}, {'word': 'aviskirin', 'meaning': 'gebe bırakmak'}, {'word': 'axaftin', 'meaning': 'konuşmak'}, {'word': 'axivîn', 'meaning': 'depreşmek'}, {'word': 'axînkişandin', 'meaning': 'ah çekmek'}, {'word': 'ayisandin', 'meaning': 'tutuşturmak'}, {'word': 'ayisîn', 'meaning': 'tutuşmak'}, {'word': 'azirandin', 'meaning': 'azarlamak'}, {'word': 'bacdanîn', 'meaning': 'vergi vermek'}, {'word': 'backirin', 'meaning': 'vergilendirmek'}, {'word': 'bacstandin', 'meaning': 'vergi almak'}, {'word': 'badan', 'meaning': 'bükmek, kıvırmak'}, {'word': 'bakirin', 'meaning': 'yellemek'}, {'word': 'balkişandin', 'meaning': 'dikkat çekmek'}, {'word': 'bandorlêkirin', 'meaning': 'etkilemek'}, {'word': 'banebûn', 'meaning': 'otlamak'}, {'word': 'bangdan', 'meaning': '1- seslemek 2-ezan okumak'}, {'word': 'banglêkirin', 'meaning': 'çağırmak, seslenmek'}, {'word': 'banîn', 'meaning': 'alışmak, uyuşmak'}, {'word': 'barandin', 'meaning': 'yağmak'}, {'word': 'barîn', 'meaning': '1-yağmak 2-'}, {'word': 'başîkirin', 'meaning': 'iyilik yapmak'}, {'word': 'bawerbûn', 'meaning': 'inanmak'}, {'word': 'bawerkirin', 'meaning': 'inandırmak'}, {'word': 'bazarkirin', 'meaning': 'pazarlamak'}, {'word': 'bazdan', 'meaning': '1-atlamak 2-ölmek (at)'}, {'word': 'bedewbûn', 'meaning': 'güzel olmak'}, {'word': 'bedewkirin', 'meaning': 'güzelleştirmek'}, {'word': 'bedilîn', 'meaning': 'şekil değişmek'}, {'word': 'bedilandin', 'meaning': 'şekil değiştirmek'}, {'word': 'behecîn', 'meaning': 'çok kızmak'}, {'word': 'behîdanan', 'meaning': 'kaparo vermek'}, {'word': 'behîtîman', 'meaning': 'kalakalmak'}, {'word': 'bejndan', 'meaning': 'boy atmak'}, {'word': 'beladîtin', 'meaning': 'belayı bulmak'}, {'word': 'belavbûn', 'meaning': 'dağılmak'}, {'word': 'belavkirin', 'meaning': 'dağıtmak'}, {'word': 'belbûn', 'meaning': 'dikilmek'}, {'word': 'belêkirin', 'meaning': 'doğrulamak, teyid etmek'}, {'word': 'beliqîn', 'meaning': 'yalpalamak'}, {'word': 'belkirin', 'meaning': 'diklemek, fırlatmak'}, {'word': 'belqitandin', 'meaning': 'gebertmek, zıbartamak'}, {'word': 'belqitîn', 'meaning': 'gebermek, zıbarmak'}, {'word': 'bendeman', 'meaning': 'beklemek'}, {'word': 'bendewarbûn', 'meaning': 'beklemek'}, {'word': 'bendewarkirin', 'meaning': 'bekletmek'}, {'word': 'bengîbûn', 'meaning': 'tutulmak'}, {'word': 'beranberbûn', 'meaning': 'eşitlenmek'}, {'word': 'beranberkirin', 'meaning': 'eşitlemek'}, {'word': 'beravêtin', 'meaning': 'hayvanlarda yavru düşürmek'}, {'word': 'berbabûn', 'meaning': 'savrulmak'}, {'word': 'berçûn', 'meaning': 'çocuk düşürmek'}, {'word': 'berdan', 'meaning': 'bırakmak'}, {'word': 'berdestbûn', 'meaning': 'yakalanmak'}, {'word': 'berevajîbûn', 'meaning': 'ters yüz olmak'}, {'word': 'berevajîkirin', 'meaning': 'saptırmak'}, {'word': 'bergirtin', 'meaning': 'döl tutmak, hamile kalmak'}, {'word': 'berketin', 'meaning': 'üzülmek'}, {'word': 'bersivdan', 'meaning': 'cevap vermek'}, {'word': 'berxistin', 'meaning': 'işaret vermek, hatırlatmak'}, {'word': 'berzbûn', 'meaning': 'ulu olmak, yücelmek'}, {'word': 'berzebûn', 'meaning': 'kaybolmak'}, {'word': 'berzekirin', 'meaning': 'kaybetmek'}, {'word': 'beskirin', 'meaning': 'yettirmek'}, {'word': 'bestîn', 'meaning': 'bağlamak'}, {'word': 'betilandin', 'meaning': 'yormak, yorulmak'}, {'word': 'betilîn', 'meaning': 'yorulmak'}, {'word': 'bexişandin', 'meaning': 'affetmek'}, {'word': 'bexişîn', 'meaning': 'affedilmek'}, {'word': 'bexşandin', 'meaning': 'affetmek'}, {'word': 'bexşkirin', 'meaning': 'affetmek'}, {'word': 'bexşîn', 'meaning': 'affedilmek'}, {'word': 'bexşîşdan', 'meaning': 'bahşiş vermek'}, {'word': 'bezan', 'meaning': 'koşmak'}, {'word': 'bezandin', 'meaning': 'koşturmak'}, {'word': 'bezîn', 'meaning': 'koşmak'}, {'word': 'bêjîngkirin', 'meaning': 'elemek'}, {'word': 'bêşdan', 'meaning': 'vergi vermek'}, {'word': 'bêşkirin', 'meaning': 'vergilendirmek'}, {'word': 'bihurandin', 'meaning': 'geçirmek, geçmek'}, {'word': 'bijartin', 'meaning': 'seçmek'}, {'word': 'bikaranîn', 'meaning': 'kullanmak'}, {'word': 'bilîn', 'meaning': 'uğraşmak'}, {'word': 'bilqandin', 'meaning': 'fokurdatmak'}, {'word': 'bilqîn', 'meaning': 'fokurdamak'}, {'word': 'binavkirin', 'meaning': 'adlandırmak'}, {'word': 'binçavkirin', 'meaning': 'gözaltına almak'}, {'word': 'biraştin', 'meaning': 'kebap yapmak'}, {'word': 'birin', 'meaning': 'götürmek'}, {'word': 'biriqandin', 'meaning': 'parlamak'}, {'word': 'biriqîn', 'meaning': 'parlamak'}, {'word': 'birîn', 'meaning': '1-kesmek 2-yara'}, {'word': 'biryardan', 'meaning': 'karar vermek'}, {'word': 'birêkirin', 'meaning': 'yolcu etmek'}, {'word': 'birîn', 'meaning': 'kesmek'}, {'word': 'birîndarkirin', 'meaning': 'yaralamak'}, {'word': 'biserketin', 'meaning': 'başarmak'}, {'word': 'bişaftin', 'meaning': 'asimile etmek'}, {'word': 'bizdandin', 'meaning': 'korkutmak'}, {'word': 'bizdîn', 'meaning': 'korkmak'}, {'word': 'bîranîn', 'meaning': 'anmak 2-'}, {'word': 'bîrhatin', 'meaning': 'hatırlanmak'}, {'word': 'bîrxistin', 'meaning': 'hatırlatmak'}, {'word': 'borandin', 'meaning': '1-affetmek 2-geçinmek'}, {'word': 'borîn', 'meaning': 'geçmek,   affetmek'}, {'word': 'borrîn', 'meaning': 'böğürmek'}, {'word': 'bûn', 'meaning': 'olmak'}, {'word': 'bûrrîn', 'meaning': 'böğürmek'}, {'word': 'bûyîn', 'meaning': 'olmak, doğmak'}, {'word': 'cebirandin', 'meaning': 'kırık ve çıkıkları kaynaştırmak'}, {'word': 'cebirîn', 'meaning': 'kaynaşmak'}, {'word': 'cedewgirtin', 'meaning': 'nasırlaşmak'}, {'word': 'cehimîn', 'meaning': 'gebermek, defolmak'}, {'word': 'cejnpîrozkirin', 'meaning': 'bayram kutlamak'}, {'word': 'cemidandin', 'meaning': 'üşütmek'}, {'word': 'cemidîn', 'meaning': 'üşümek'}, {'word': 'cengîn', 'meaning': 'savaşmak'}, {'word': 'cengkirin', 'meaning': 'savaşmak'}, {'word': 'cerdkirin', 'meaning': 'baskın yapmak'}, {'word': 'ceribandin', 'meaning': 'denemek'}, {'word': 'cewkirin', 'meaning': 'kırpmak'}, {'word': 'cigarekêşan', 'meaning': 'sigara içmek'}, {'word': 'cihanîn', 'meaning': 'yerine getirmek'}, {'word': 'cihbûn', 'meaning': 'yerleşmek'}, {'word': 'cihêbûn', 'meaning': 'ayrılmak'}, {'word': 'cihêkirin', 'meaning': 'ayırmak'}, {'word': 'cihkirin', 'meaning': 'yerleştirmek'}, {'word': 'ciniqîn', 'meaning': 'ürkmek'}, {'word': 'civandin', 'meaning': 'toplamak'}, {'word': 'cîwarbûn', 'meaning': 'yerleşmek'}, {'word': 'colandin', 'meaning': 'karıştırmak'}, {'word': 'coşandin', 'meaning': 'coşturmak'}, {'word': 'coşîn', 'meaning': 'coşmak'}, {'word': 'cudabûn', 'meaning': 'ayrılmak'}, {'word': 'cudakirin', 'meaning': 'ayırmak'}, {'word': 'cûtin', 'meaning': 'çiğnemek'}, {'word': 'çadirvedan', 'meaning': 'çadır açmak'}, {'word': 'çakbînbûn', 'meaning': 'iyimser olmak'}, {'word': 'çakbînkirin', 'meaning': 'iyimser yapmak'}, {'word': 'çakbûn', 'meaning': 'iyi olmak, hoş olmak'}, {'word': 'çalakbûn', 'meaning': 'aktif olmak'}, {'word': 'çalkirin', 'meaning': 'çukur yapmak'}, {'word': 'çamûrkirin', 'meaning': 'çamurlamak'}, {'word': 'çandin', 'meaning': 'ekmek'}, {'word': 'çapbûn', 'meaning': 'yayınlanmak'}, {'word': 'çarçikkirin', 'meaning': 'karelemek'}, {'word': 'çarçovekirin', 'meaning': 'çerçevelemek'}, {'word': 'çarebûn', 'meaning': 'çare olmak'}, {'word': 'çareserbûn', 'meaning': 'halolmak'}, {'word': 'çareserkirin', 'meaning': 'çözümlemek'}, {'word': 'çavbelbûn', 'meaning': 'göz açık olmak'}, {'word': 'çavberdan', 'meaning': 'göz dikmek'}, {'word': 'çaxûnbûn', 'meaning': 'hamarat olmak'}, {'word': 'çaxûnkirin', 'meaning': 'hamarat yapmak'}, {'word': 'çekberdan', 'meaning': 'silah bırakmak'}, {'word': 'çelitîn', 'meaning': 'soyulmak, sıyrılmak'}, {'word': 'çelpandin', 'meaning': '1-araklamak 2-şaklamak'}, {'word': 'çelqandin', 'meaning': 'çalkalamak'}, {'word': 'çelqîn', 'meaning': 'çalkalanmak'}, {'word': 'çeqîn', 'meaning': 'şakırdamak, patlamak'}, {'word': 'çerixandin', 'meaning': 'döndürmek, burkmak'}, {'word': 'çerixîn', 'meaning': 'burkulmak'}, {'word': 'çermkirin', 'meaning': 'yüzmek'}, {'word': 'çespandin', 'meaning': 'ispatlamak, yapıştırmak'}, {'word': 'çewisandin', 'meaning': 'sindirmek'}, {'word': 'çewisîn', 'meaning': 'sinmek'}, {'word': 'çêbûn', 'meaning': 'olmak. yapılmak'}, {'word': 'çêjdan', 'meaning': 'tat vermek'}, {'word': 'çêjkirin', 'meaning': 'tatlandırmak'}, {'word': 'çêkirin', 'meaning': 'yapmak'}, {'word': 'çêlkirin', 'meaning': 'bahsetmek'}, {'word': 'çêrandin', 'meaning': 'otlatmak'}, {'word': 'çiçikdan', 'meaning': 'emzirmek'}, {'word': 'çikandin', 'meaning': '1-suyu kesmek 2-dikmek'}, {'word': 'çikçikandin', 'meaning': 'kurutmak, diklemek'}, {'word': 'çikîn', 'meaning': 'kurumak, kesilmek, dikilmek'}, {'word': 'çiliqandin', 'meaning': 'şımartmak'}, {'word': 'çiliqîn', 'meaning': 'şımarmak'}, {'word': 'çilmisandin', 'meaning': 'soldurmak, ezmek'}, {'word': 'çilmisîn', 'meaning': 'solmak, büzülmek, ezilmek'}, {'word': 'çilmkirin', 'meaning': 'sümüklemek'}, {'word': 'çilvilîn', 'meaning': 'parlamak, ışıldamak'}, {'word': 'çilvirîn', 'meaning': 'paralanmak, dejenere olmak,yozlaşmak'}, {'word': 'çindikdan', 'meaning': 'sekmek'}, {'word': 'çinîn', 'meaning': 'biçmek'}, {'word': 'çiqilkirin', 'meaning': 'budamak'}, {'word': 'çirandin', 'meaning': 'yırtmak'}, {'word': 'çirikandin', 'meaning': 'hallaçlamak'}, {'word': 'çirisîn', 'meaning': 'parlamak, parıldamak'}, {'word': 'çirîn', 'meaning': 'gıcırdamak'}, {'word': 'çirpîn', 'meaning': 'şakırdamak'}, {'word': 'çirûsîn', 'meaning': 'ışıldamak'}, {'word': 'çivandin', 'meaning': 'kaytarmak'}, {'word': 'çivîn', 'meaning': 'kaytarmak'}, {'word': 'çîlbûn', 'meaning': 'bozarmak'}, {'word': 'çokdan', 'meaning': 'diz çökmek'}, {'word': 'çopandin', 'meaning': 'gaspetmek'}, {'word': 'çûn', 'meaning': 'gitmek'}, {'word': 'çûyîn', 'meaning': 'gitmek'}, {'word': 'dabarîn', 'meaning': 'yağdırmak'}, {'word': 'dabaşkirin', 'meaning': 'araştırmak'}, {'word': 'dabelandin', 'meaning': 'yutmak'}, {'word': 'daberizîn', 'meaning': 'saldırmak, çatmak'}, {'word': 'dabestin', 'meaning': 'bağlamak, sona erdirmek'}, {'word': 'dabeşbûn', 'meaning': 'parçalanmak'}, {'word': 'dabeşkirin', 'meaning': 'parçalamak'}, {'word': 'dabilandin', 'meaning': 'yuvarlamak'}, {'word': 'dabînkirin', 'meaning': 'garanti etmek'}, {'word': 'daçikandin', 'meaning': 'dikmek'}, {'word': 'dadan', 'meaning': '1-kapatmak 2-yakmak'}, {'word': 'dagirkirin', 'meaning': 'işgal etmek'}, {'word': 'dagirtin', 'meaning': 'doldurmak'}, {'word': 'dahat', 'meaning': ''}, {'word': 'dahatin', 'meaning': '1-inmek 2-'}, {'word': 'daholêdan', 'meaning': 'davul çalmak'}, {'word': 'dahûrandin', 'meaning': 'çözümlemek, analiz etmek'}, {'word': 'daketin', 'meaning': 'inmek'}, {'word': 'daliqandin', 'meaning': 'asmak'}, {'word': 'damezrandin', 'meaning': 'kurmak'}, {'word': 'damilîn', 'meaning': 'yummak'}, {'word': 'dan', 'meaning': '1-vermek 2-'}, {'word': 'danîn', 'meaning': 'indirmek, bırakmak'}, {'word': 'daqurtandin', 'meaning': 'yutmak'}, {'word': 'dardakirin', 'meaning': 'asmak'}, {'word': 'darizandin', 'meaning': 'yargılamak'}, {'word': 'darvekirin', 'meaning': 'asmak'}, {'word': 'darxistin', 'meaning': 'kurmak'}, {'word': 'daxkirin', 'meaning': 'dağlamak'}, {'word': 'daxistin', 'meaning': 'indirmek'}, {'word': 'daxuyandin', 'meaning': 'açıklamak'}, {'word': 'daxwazkirin', 'meaning': 'istemek'}, {'word': 'dayîn', 'meaning': 'vermek'}, {'word': 'defandin', 'meaning': 'itmek, itelemek'}, {'word': 'deqandin', 'meaning': 'beneklemek'}, {'word': 'deqkirin', 'meaning': 'dövme yapmak'}, {'word': 'deranîn', 'meaning': 'dışarı çıkarmak, sökmek'}, {'word': 'derbasbûn', 'meaning': 'geçmek'}, {'word': 'derbaskirin', 'meaning': 'geçirmek'}, {'word': 'derbirin', 'meaning': 'ifade vermek'}, {'word': 'derbûn', 'meaning': '1-akmak, patlamak 2-boşalmak'}, {'word': 'derengketin', 'meaning': 'geç kalmak'}, {'word': 'derewkirin', 'meaning': 'yalan söylemek'}, {'word': 'derizandın', 'meaning': 'çatlatmak'}, {'word': 'derizîn', 'meaning': 'çatlamak'}, {'word': 'derketin', 'meaning': 'çıkmak'}, {'word': 'derkirin', 'meaning': 'kovmak, çıkarmak'}, {'word': 'dermanbûn', 'meaning': 'ilaçlanmak'}, {'word': 'dermandan', 'meaning': 'ilaç vermek'}, {'word': 'derxistin', 'meaning': 'çıkarmak'}, {'word': 'destavêtin', 'meaning': 'el atmak, taciz etmek'}, {'word': 'destpêkirin', 'meaning': 'başlamak'}, {'word': 'dewisandin', 'meaning': 'bastırmak, sıkıştırmak'}, {'word': 'dewisîn', 'meaning': 'basmak, sıkışmak'}, {'word': 'dildan', 'meaning': 'gönül vermek'}, {'word': 'dilgirtin', 'meaning': 'gücenmek'}, {'word': 'dilketin', 'meaning': 'aşık olmak'}, {'word': 'dilkirin', 'meaning': 'istemek'}, {'word': 'dilopandin', 'meaning': 'damlamak'}, {'word': 'dilopkirin', 'meaning': 'damlamak'}, {'word': 'dirankirin', 'meaning': 'dişlemek'}, {'word': 'dirîn', 'meaning': 'yırtmak'}, {'word': 'dirêjkirin', 'meaning': 'uzatmak'}, {'word': 'dirûn', 'meaning': '1-biçmek 2-dikmek'}, {'word': 'dirûvandin', 'meaning': 'benzetmek'}, {'word': 'dizîkirin', 'meaning': 'hırsızlık yapmak'}, {'word': 'dizîn', 'meaning': 'hırsızlık yapmak'}, {'word': 'dînbûn', 'meaning': 'delirmek'}, {'word': 'dînkirin', 'meaning': 'delirtmek'}, {'word': 'dîtin', 'meaning': 'görmek'}, {'word': 'dîtir', 'meaning': 'öteki, diğeri, başkası'}, {'word': 'domîn', 'meaning': 'devam etmek'}, {'word': 'dorpêçan', 'meaning': 'kuşatmak'}, {'word': 'doşîn', 'meaning': 'sağmak'}, {'word': 'dotin', 'meaning': 'sağmak'}, {'word': 'dozkirin', 'meaning': 'tespit etmek'}, {'word': 'dozvekirin', 'meaning': 'dava açmak'}, {'word': 'duakirin', 'meaning': 'dua etmek'}, {'word': 'ducarkirin', 'meaning': 'ikilemek'}, {'word': 'dûçûn', 'meaning': 'arkasından gitmek'}, {'word': 'dûkirin', 'meaning': 'dumanlamak'}, {'word': 'dûrketin', 'meaning': 'uzatlaşmak'}, {'word': 'dûrxistin', 'meaning': 'uzaklaştırmak'}, {'word': 'ebandin', 'meaning': 'sokuşturmak, sığdırmaya çalışmak'}, {'word': 'ecibandin', 'meaning': 'beğenmek'}, {'word': 'edilandin', 'meaning': 'düzeltmek, toparlamak'}, {'word': 'edilîn', 'meaning': 'düzelmek, toparlanmak'}, {'word': 'efûbûn', 'meaning': 'af edilmek'}, {'word': 'efûkirin', 'meaning': 'af etmek'}, {'word': 'elimandin', 'meaning': 'alıştırmak'}, {'word': 'elimîn', 'meaning': 'alışmak'}, {'word': 'enirandin', 'meaning': 'küstürmek'}, {'word': 'enirîn', 'meaning': 'küsmek, kızmak'}, {'word': 'erzankirin', 'meaning': 'ucuzlatmak'}, {'word': 'ewtin', 'meaning': 'havlamak'}, {'word': 'ezimandin', 'meaning': 'ağırlamak'}, {'word': 'êrişkirin', 'meaning': 'saldırmak'}, {'word': 'êşîn', 'meaning': 'ağırmak'}, {'word': 'famkirin', 'meaning': 'anlamak'}, {'word': 'fedakirin', 'meaning': 'feda etmek'}, {'word': 'fedîkirin', 'meaning': 'utanmak'}, {'word': 'fehmkirin', 'meaning': 'anlamak'}, {'word': 'fekirin', 'meaning': 'bakmak'}, {'word': 'fermandan', 'meaning': 'emir vermek'}, {'word': 'fetilandin', 'meaning': 'dolandırmak'}, {'word': 'fetisandin', 'meaning': 'boğmak'}, {'word': 'fetisîn', 'meaning': 'boğulmak'}, {'word': 'fêrbûn', 'meaning': 'öğrenmek'}, {'word': 'fêrkirin', 'meaning': 'öğretmek'}, {'word': 'fêzdayîn', 'meaning': 'kıvırmak, kaçmak'}, {'word': 'filitîn', 'meaning': 'kurtulmak'}, {'word': 'firandin', 'meaning': 'uçurmak'}, {'word': 'firehbûn', 'meaning': 'geniş olmak'}, {'word': 'firehkirin', 'meaning': 'genişletmek'}, {'word': 'firîn', 'meaning': 'uçmak'}, {'word': 'firotin', 'meaning': 'satmak'}, {'word': 'fiskirin', 'meaning': 'yellemek'}, {'word': 'fitilîn', 'meaning': 'geri dönmek'}, {'word': 'fişkirin', 'meaning': 'sümkürmek'}, {'word': 'fîqandin', 'meaning': 'ıslık çalmak'}, {'word': 'fîtikvedan', 'meaning': 'düdük çalmak'}, {'word': 'fîtkirin', 'meaning': 'kışkırtmak'}, {'word': 'fûrandin', 'meaning': 'taşırmak'}, {'word': 'fûrîn', 'meaning': 'taşmak'}, {'word': 'gadan', 'meaning': 'ineği çiftleştirmek'}, {'word': 'gavavêtin', 'meaning': 'adım atmak'}, {'word': 'gefkirin', 'meaning': 'tehdit etmek'}, {'word': 'gemirandin', 'meaning': 'bir şeyin biçimini bozmak'}, {'word': 'genîbûn', 'meaning': 'kokuşmak'}, {'word': 'gerandin', 'meaning': 'gezdirmek, dolaştırmak'}, {'word': 'gerisîn', 'meaning': 'çiğnenmek, ezilmek'}, {'word': 'germbûn', 'meaning': 'ısınmak'}, {'word': 'germijandin', 'meaning': 'ılıtmak'}, {'word': 'germkirin', 'meaning': 'ısıtmak'}, {'word': 'gerrîn', 'meaning': 'dolaşmak, gezmek'}, {'word': 'geşbûn', 'meaning': 'gelişmek, serpilmek'}, {'word': 'geşkirin', 'meaning': 'geliştirmek'}, {'word': 'geverbûn', 'meaning': 'gebermek'}, {'word': 'geverkirin', 'meaning': 'gebertmek'}, {'word': 'gevizîn', 'meaning': 'ağnmak, debelenmek'}, {'word': 'gewixandin', 'meaning': 'boğazlamak, üstüne çullanmak'}, {'word': 'gezkirin', 'meaning': 'ısırmak'}, {'word': 'gezîn', 'meaning': 'ısırmak'}, {'word': 'gêçkirin', 'meaning': 'alçılamak'}, {'word': 'gêjbûn', 'meaning': 'sersemlemek'}, {'word': 'gêrkirin', 'meaning': 'devirmek, yuvarlamak'}, {'word': 'gêzikirin', 'meaning': 'süpürmek'}, {'word': 'gihandin', 'meaning': 'ulaştırmak'}, {'word': 'gihiştin', 'meaning': 'yetişmek, ulaşmak'}, {'word': 'gijgijandin', 'meaning': 'sallamak'}, {'word': 'gijgijîn', 'meaning': 'tüyleri diken olmak'}, {'word': 'gilîkirin', 'meaning': 'şikayet etmek'}, {'word': 'gilokkirin', 'meaning': 'yumak yapmak'}, {'word': 'gilorbûn', 'meaning': 'yuvarlanmak'}, {'word': 'gilorkirin', 'meaning': 'yuvarlamak'}, {'word': 'gimandin', 'meaning': 'patlatmak'}, {'word': 'gimîn', 'meaning': 'patlamak'}, {'word': 'gincirandin', 'meaning': 'yırtmak'}, {'word': 'gincîkirin', 'meaning': 'yapışmış pisliği temizlemek'}, {'word': 'gindirandin', 'meaning': 'yuvarlamak'}, {'word': 'gindirîn', 'meaning': 'yuvarlanmak'}, {'word': 'giranbûn', 'meaning': 'ağır olmak'}, {'word': 'girankirin', 'meaning': 'ağır yapmak'}, {'word': 'girbûn', 'meaning': 'büyümek'}, {'word': 'girêdan', 'meaning': 'bağlamak'}, {'word': 'girîn', 'meaning': 'ağlamak'}, {'word': 'girmîn', 'meaning': 'patlamak'}, {'word': 'girtin', 'meaning': 'almak'}, {'word': 'givaştin', 'meaning': 'sıkmak'}, {'word': 'givirandin', 'meaning': 'sindirmek'}, {'word': 'givirîn', 'meaning': 'sinmek, sindirilmek'}, {'word': 'givrikîbûn', 'meaning': 'palazanmak, büyümek'}, {'word': 'gizgizandin', 'meaning': 'karıncalanmak'}, {'word': 'gîrbûn', 'meaning': 'kabız olmak'}, {'word': 'gîrobûn', 'meaning': 'gecikmek'}, {'word': 'gîsinkirin', 'meaning': 'sürmek, ekmek'}, {'word': 'gotin', 'meaning': 'demek, söylemek'}, {'word': 'grevgirtin', 'meaning': 'greve gitmek'}, {'word': 'grevkirin', 'meaning': 'grev yapmak'}, {'word': 'guhartin', 'meaning': 'değiştirmek'}, {'word': 'guhdan', 'meaning': 'kulak vermek, dinlemek'}, {'word': 'guherîn', 'meaning': 'değişmek'}, {'word': 'guhêztin', 'meaning': '1-nakletmek 2-atamak'}, {'word': 'gumîn', 'meaning': 'gümbürdemek'}, {'word': 'gurmîn', 'meaning': '1-saldırmak 2-gümbürdemek'}, {'word': 'guvîn', 'meaning': 'vınlamak'}, {'word': 'harbûn', 'meaning': 'kudurmak'}, {'word': 'harkirin', 'meaning': 'kudurtmak'}, {'word': 'hatin', 'meaning': 'gelmek'}, {'word': 'hebûn', 'meaning': 'olmak, var olmak'}, {'word': 'hedimîn', 'meaning': 'aşınmak'}, {'word': 'hejandin', 'meaning': 'sallamak'}, {'word': 'hejîn', 'meaning': 'sallanmak'}, {'word': 'helandin', 'meaning': 'eritmek'}, {'word': 'helîn', 'meaning': 'erimek'}, {'word': 'hemilandin', 'meaning': '1-sindirmek 2-barındırmak'}, {'word': 'herambûn', 'meaning': 'haram olmak'}, {'word': 'herikîn', 'meaning': 'akmak'}, {'word': 'hesankirin', 'meaning': 'bilemek'}, {'word': 'hesibandin', 'meaning': 'hesaba katmak'}, {'word': 'hetikandin', 'meaning': 'batırmak, bozmak, rezil etmek'}, {'word': 'hevdîtin', 'meaning': 'görüşmek'}, {'word': 'hevhatin', 'meaning': 'barışmak'}, {'word': 'hewldan', 'meaning': 'çabalamak'}, {'word': 'heyirîn', 'meaning': '1-şaşmak 2-hayran kalmak'}, {'word': 'hezkirin', 'meaning': 'sevmek'}, {'word': 'hêçbûn', 'meaning': 'kudurmak'}, {'word': 'hêçkirin', 'meaning': 'kudurtmak'}, {'word': 'hêkkirin', 'meaning': 'yumurtlamak'}, {'word': 'hênikbûn', 'meaning': 'serinlemek'}, {'word': 'hênikirin', 'meaning': 'serinletmek'}, {'word': 'hêran', 'meaning': 'öğütmek'}, {'word': 'hêşinbûn', 'meaning': 'yeşermek'}, {'word': 'hêvîkirin', 'meaning': 'umut etmek'}, {'word': 'hêwirandin', 'meaning': 'kondurmak, barındırmak'}, {'word': 'hêwirîn', 'meaning': 'konmak, barınmak'}, {'word': 'hilan', 'meaning': 'saklama'}, {'word': 'hilanîn', 'meaning': '1-saklamak 2-kaldırmak'}, {'word': 'hilavêtin', 'meaning': 'hoplatmak'}, {'word': 'hilbijartin', 'meaning': '1-seçim 2-'}, {'word': 'hilbûn', 'meaning': 'kalkmak, yükselmek'}, {'word': 'hilçinîn', 'meaning': 'toplamak'}, {'word': 'hilçandin', 'meaning': 'ayıklamak, seçmek'}, {'word': 'hildan', 'meaning': 'kaldırmak, saklamak'}, {'word': 'hilgirtin', 'meaning': 'bir şeyi yerinden kaldırmak'}, {'word': 'hilhatin', 'meaning': 'doğmak (güneş veya ay)'}, {'word': 'hilketin', 'meaning': 'kalkmak, yükselmek'}, {'word': 'hilkirin', 'meaning': 'kaldırmak, yükseltmek'}, {'word': 'hilkişîn', 'meaning': 'yerinden çıkarmak, çekmek'}, {'word': 'hilpekîn', 'meaning': 'tökezlemek, sekmek'}, {'word': 'hilûbûn', 'meaning': 'düz veya pürüzsüz olmak'}, {'word': 'hilûkirin', 'meaning': 'pürüzsüz yapmak'}, {'word': 'hilweşandin', 'meaning': 'yıkmak, bozmak, dökmek'}, {'word': 'hilweşîn', 'meaning': 'yıkılmak, bozulmak, dökülmek'}, {'word': 'hisandin', 'meaning': 'duyurmak'}, {'word': 'hişkbûn', 'meaning': 'kurumak'}, {'word': 'hişkirin', 'meaning': 'kurutmak'}, {'word': 'hiştin', 'meaning': 'bırakmak, müsaade etmek'}, {'word': 'hişyarbûn', 'meaning': 'uyanmak'}, {'word': 'hînbûn', 'meaning': 'alışmak'}, {'word': 'hînkirin', 'meaning': 'alıştırmak'}, {'word': 'hîvaztin', 'meaning': 'örmek, sökük kapatmak'}, {'word': 'hûnan', 'meaning': 'örmek'}, {'word': 'hûnandin', 'meaning': 'örmek, birbirine dolamak'}, {'word': 'hûrbûn', 'meaning': '1-incelmek, ufalmak 2-kırılmak'}, {'word': 'hûrkirin', 'meaning': 'ufaltmak, küçük küçük doğramak'}, {'word': 'ingirîn', 'meaning': 'inat etmek'}, {'word': 'intîn', 'meaning': '1-kin gütmek, ıkınmak'}, {'word': 'jandan', 'meaning': 'ağırmak'}, {'word': 'jarîn', 'meaning': 'acı vermek, inlemek'}, {'word': 'jenandin', 'meaning': 'hallaçlamak'}, {'word': 'jêbûn', 'meaning': 'kesilmek, kopmak'}, {'word': 'jêkirin', 'meaning': 'kesmek, koparmak'}, {'word': 'kalandin', 'meaning': 'melemek, inlemek'}, {'word': 'kalbûn', 'meaning': 'yaşlanmak, ham olmak'}, {'word': 'kalekalkirin', 'meaning': 'melemek'}, {'word': 'kalîn', 'meaning': 'melemek'}, {'word': 'karanîn', 'meaning': 'kullanmak, yapmak'}, {'word': 'karîn', 'meaning': '-e bilmek 2-gücü yetmek'}, {'word': 'karkirin', 'meaning': 'çalışmak'}, {'word': 'karûbarkirin', 'meaning': 'iş güç yapmak'}, {'word': 'kasilîn', 'meaning': 'tembellik etmek'}, {'word': 'kavilbûn', 'meaning': 'yıkılmak, virane olmak'}, {'word': 'kavilkirin', 'meaning': 'yıkmak'}, {'word': 'kawêjkirin', 'meaning': 'geviş getirmek'}, {'word': 'kayîn', 'meaning': 'geviş getirmek'}, {'word': 'kelandin', 'meaning': 'kaynatmak'}, {'word': 'kelebçekirin', 'meaning': 'kelebçelemek'}, {'word': 'kelîn', 'meaning': 'kaynamak'}, {'word': 'kelxbûn', 'meaning': 'moruklaşmak'}, {'word': 'kemilandin', 'meaning': 'olgunlaştırmak'}, {'word': 'kemilîn', 'meaning': 'olgunlaşmak'}, {'word': 'kenandin', 'meaning': 'güldürmek'}, {'word': 'kenîn', 'meaning': 'gülmek'}, {'word': 'keremkirin', 'meaning': 'buyurmak'}, {'word': 'kerixîn', 'meaning': 'bıkmak, tiksinmek'}, {'word': 'kerîkirin', 'meaning': 'bölmek, parçalamak'}, {'word': 'keşifkirin', 'meaning': 'keşif yapmak'}, {'word': 'ketin', 'meaning': 'düşmek'}, {'word': 'kewandin', 'meaning': 'dağlamak, pansıman yapmak'}, {'word': 'kêlan', 'meaning': 'çift sürmük, bellemek'}, {'word': 'kilan', 'meaning': 'sallanmak'}, {'word': 'kilandin', 'meaning': 'sallamak'}, {'word': 'kildan', 'meaning': 'sürme çekmek'}, {'word': 'kilkirin', 'meaning': '1-sürme çekmek 2-sallamak'}, {'word': 'kinbûn', 'meaning': 'kısalmak'}, {'word': 'kinkirin', 'meaning': 'kısaltmak'}, {'word': 'kirin', 'meaning': '1-yapmak, etmek 2-koymak, sokmak'}, {'word': 'kirîn', 'meaning': 'satın almak'}, {'word': 'kirpandin', 'meaning': 'vurgulamak'}, {'word': 'kirtîn', 'meaning': 'kütürdemek'}, {'word': 'kişandin', 'meaning': 'çekmek'}, {'word': 'kişîn', 'meaning': 'çekmek'}, {'word': 'kizirandin', 'meaning': 'yakmak'}, {'word': 'kizîn', 'meaning': 'cızırdamak'}, {'word': 'koçbûn', 'meaning': 'göç etmek'}, {'word': 'kolan', 'meaning': '1-cadde, sokak 2-'}, {'word': 'kolîn', 'meaning': 'kazmak, eşelemek'}, {'word': 'kombûn', 'meaning': 'toplanmak'}, {'word': 'kopandin', 'meaning': 'metal bir şeyi göçürmek'}, {'word': 'kotin', 'meaning': 'kemirmek'}, {'word': 'kujîn', 'meaning': 'öldürmek'}, {'word': 'kullîn', 'meaning': 'topallamak'}, {'word': 'kurisandin', 'meaning': 'kemirmek, sokmak,yerleştirmek'}, {'word': 'kurmîbûn', 'meaning': 'kurtlanmak'}, {'word': 'kurtbûn', 'meaning': 'kısalmak'}, {'word': 'kuştin', 'meaning': 'öldürmek'}, {'word': 'kutabûn', 'meaning': 'bitmek'}, {'word': 'kutakirin', 'meaning': 'bitirmek'}, {'word': 'kutan', 'meaning': 'dövmek, vurmak'}, {'word': 'kutandin', 'meaning': 'dövdürmek, vurdurmak'}, {'word': 'kuxîn', 'meaning': 'öksürmek'}, {'word': 'kûzbûn', 'meaning': 'kambur olmak, eğilmek'}, {'word': 'kûzîn', 'meaning': 'ulumak'}, {'word': 'kûzkirin', 'meaning': 'eğmek'}, {'word': 'lalbûn', 'meaning': 'dili tutulmak'}, {'word': 'lavakirin', 'meaning': 'yalvarmak'}, {'word': 'lawazbûn', 'meaning': 'cılız olmak'}, {'word': 'lebitandin', 'meaning': 'kımıldatmak'}, {'word': 'lebitîn', 'meaning': 'kımıldamak, harekete geçmek'}, {'word': 'lengîn', 'meaning': 'topallamak'}, {'word': 'leqandin', 'meaning': 'kıpırdatmak'}, {'word': 'leqdan', 'meaning': 'kıpırdamak'}, {'word': 'leqîn', 'meaning': 'kıpırdamak, sarsılmak'}, {'word': 'lerizandin', 'meaning': 'titremek, sarsmak'}, {'word': 'lerizîn', 'meaning': 'sarsılmak'}, {'word': 'levhatin', 'meaning': 'barışmak'}, {'word': 'lewitîn', 'meaning': 'kirlenmek'}, {'word': 'lezandin', 'meaning': 'acele etmek'}, {'word': 'lezkirin', 'meaning': 'acele etmek'}, {'word': 'lêanîn', 'meaning': 'uydurmak'}, {'word': 'lêbandin', 'meaning': 'mırıldanmak'}, {'word': 'lêborîn', 'meaning': 'affetmek, bağışlamak'}, {'word': 'lêbûn', 'meaning': 'uymak'}, {'word': 'lêçûn', 'meaning': 'benzemek'}, {'word': 'lêdan', 'meaning': 'dövmek, vurmak, sürmek'}, {'word': 'lêgirtin', 'meaning': 'ölçmek, mukayese etmek'}, {'word': 'lêhatin', 'meaning': 'uymak'}, {'word': 'lêketin', 'meaning': 'değmek'}, {'word': 'lêkirin', 'meaning': 'giydirmek'}, {'word': 'lêkolîn', 'meaning': '1-araştırmak   2-'}, {'word': 'lênerîn', 'meaning': 'bakmak'}, {'word': 'lêvegerandin', 'meaning': 'iade etmek'}, {'word': 'lêxistin', 'meaning': 'vurmak, dövmek'}, {'word': 'lêxweşhatin', 'meaning': 'hoşuna gitmek'}, {'word': 'libandin', 'meaning': 'tanelemek'}, {'word': 'ihevanîn', 'meaning': 'uydurmak, uyarlamak, barıştırmak'}, {'word': 'lihevhatin', 'meaning': 'barışmak, uzlaşmak'}, {'word': 'lihevxistin', 'meaning': 'çarpışmak, karıştırmak'}, {'word': 'likimandin', 'meaning': 'tökezlemek'}, {'word': 'livandin', 'meaning': 'kımıldatmak'}, {'word': 'livîn', 'meaning': 'kımıldamak'}, {'word': 'lixwedan', 'meaning': 'dövünmek'}, {'word': 'lîsbûn', 'meaning': 'tünemek'}, {'word': 'lîskirin', 'meaning': 'tünetmek'}, {'word': 'lîstin', 'meaning': 'oynamak'}, {'word': 'lîsîn', 'meaning': '1-parıldamak 2-tünemek'}, {'word': 'lodkirin', 'meaning': 'yığmak'}, {'word': 'lomekirin', 'meaning': 'serzenişte bulunmak'}, {'word': 'loqandin', 'meaning': 'tırıs sürmek, kıvırtmak'}, {'word': 'lorandin', 'meaning': 'ninni söylemek, ağıt söylemek'}, {'word': 'lorîn', 'meaning': 'ninni söylemek'}, {'word': 'lotikdan', 'meaning': 'zıplamak'}, {'word': 'lûbîn', 'meaning': 'mırıldanmak'}, {'word': 'lûblûb', 'meaning': 'mırıldama, yalvarma'}, {'word': 'lûlbûn', 'meaning': 'aşılanmak'}, {'word': 'lûlkirin', 'meaning': 'aşılamak'}, {'word': 'lûskirin', 'meaning': 'yığmak'}, {'word': 'maçîn', 'meaning': 'öpmek'}, {'word': 'malekirin', 'meaning': 'malalamak, sıvamak'}, {'word': 'man', 'meaning': 'kalmak, durmak'}, {'word': 'markirin', 'meaning': 'nikah yapmak'}, {'word': 'maşandin', 'meaning': 'aşındırmak'}, {'word': 'maşîn', 'meaning': 'eskimek, aşınmak'}, {'word': 'mayîn', 'meaning': 'kalmak'}, {'word': 'melisîn', 'meaning': 'sinmek'}, {'word': 'meşandin', 'meaning': 'yürütmek'}, {'word': 'meşîn', 'meaning': 'yürümek'}, {'word': 'mexelbûn', 'meaning': 'yayılmak, yatmak ( koyun vs.)'}, {'word': 'meyîn', 'meaning': 'mayalanmak'}, {'word': 'mezinbûn', 'meaning': 'büyümek'}, {'word': 'mezinkirin', 'meaning': 'büyütmek'}, {'word': 'mêrkirin', 'meaning': 'kocaya gitmek'}, {'word': 'mêtin', 'meaning': 'emmek'}, {'word': 'miçandin', 'meaning': 'yummak, kapatmak'}, {'word': 'miçiqandin', 'meaning': 'kurutmak'}, {'word': 'miçiqîn', 'meaning': 'kurumak'}, {'word': 'miçkirin', 'meaning': 'kapatmak'}, {'word': 'miçîn', 'meaning': 'kapamak, yumulmak'}, {'word': 'mijandin', 'meaning': 'emzirmek'}, {'word': 'mijîn', 'meaning': 'emmek'}, {'word': 'mijûlbûn', 'meaning': 'meşgul olmak'}, {'word': 'mirin', 'meaning': 'ölmek'}, {'word': 'mistdan', 'meaning': 'ovalamak, el sürmek'}, {'word': 'mişebûn', 'meaning': 'çoğalmak'}, {'word': 'mişekirin', 'meaning': 'çoğaltmak'}, {'word': 'mizgîndan', 'meaning': 'müjde vermek'}, {'word': 'mîrnişîn', 'meaning': 'emirlik'}, {'word': 'mîzkirin', 'meaning': 'işemek'}, {'word': 'mûçandin', 'meaning': 'kulak dikmek'}, {'word': 'nalandin', 'meaning': 'inlemek'}, {'word': 'nalenal', 'meaning': 'inleme'}, {'word': 'nalenalkirin', 'meaning': 'inlemek'}, {'word': 'nalîn', 'meaning': 'inlemek'}, {'word': 'nalkirin', 'meaning': 'nallamak'}, {'word': 'nasandin', 'meaning': 'tanıtmak'}, {'word': 'nasbûn', 'meaning': 'tanınmak'}, {'word': 'nasîn', 'meaning': 'tanımak'}, {'word': 'naskirin', 'meaning': 'tanımak'}, {'word': 'navzedkirin', 'meaning': 'aday yapmak'}, {'word': 'nazîn', 'meaning': 'naz yapmak'}, {'word': 'negatîf', 'meaning': 'negatif'}, {'word': 'nepixandin', 'meaning': 'şişirmek'}, {'word': 'nepixîn', 'meaning': 'şişmek'}, {'word': 'nermijandin', 'meaning': 'yumuşatmak'}, {'word': 'nermijîn', 'meaning': 'yumuşamaknermîn r. yumuşak, tatlı, hoş'}, {'word': 'newêrîn', 'meaning': 'cesaret etmemek'}, {'word': 'nêrîn', 'meaning': 'bakmak'}, {'word': 'nêzbûn', 'meaning': 'yakınlaşmak'}, {'word': 'nêzkirin', 'meaning': 'yakınlaştırmak'}, {'word': 'niçandin', 'meaning': 'dürtmek'}, {'word': 'nikilkirin', 'meaning': 'gagalamak'}, {'word': 'nimandin', 'meaning': 'temsil etmek, göstermek'}, {'word': 'niqutandin', 'meaning': 'damlatmak'}, {'word': 'niqutîn', 'meaning': 'damlamak'}, {'word': 'nirxandin', 'meaning': 'değerlendirmek'}, {'word': 'nişîn', 'meaning': 'yerleşmek, ikamet etmek'}, {'word': 'nitirandin', 'meaning': 'gözettirmek, kollatmak'}, {'word': 'nivistin', 'meaning': 'uyumak'}, {'word': 'niximandin', 'meaning': 'sarmak, örtmek'}, {'word': 'nîgarkirin', 'meaning': 'nakşetmek'}, {'word': 'nîşangirtin', 'meaning': 'nişan almak'}, {'word': 'nîşankirin', 'meaning': 'belirlemek'}, {'word': 'noqbûn', 'meaning': 'batmak, dalmak'}, {'word': 'noqîn', 'meaning': 'batmak, dalmak'}, {'word': 'noqkirin', 'meaning': 'batırmak, daldırmak'}, {'word': 'noşîn', 'meaning': 'içmek'}, {'word': 'nûsandin', 'meaning': 'yapıştırmak'}, {'word': 'ofîn', 'meaning': 'oflamak'}, {'word': 'olandan', 'meaning': 'yankılanmak'}, {'word': 'orandin', 'meaning': 'böğürtmek'}, {'word': 'orîn', 'meaning': 'böğürmek'}, {'word': 'paçkirin', 'meaning': 'öpmek'}, {'word': 'paldan', 'meaning': 'yaslanmak'}, {'word': 'parastin', 'meaning': 'savunmak'}, {'word': 'parçebûn', 'meaning': 'parçalanmak'}, {'word': 'parîkirin', 'meaning': 'parçalamak'}, {'word': 'parkirin', 'meaning': 'paylaştırmak'}, {'word': 'parzinandin', 'meaning': 'süzmek'}, {'word': 'parzinîn', 'meaning': 'süzülmek'}, {'word': 'patekirin', 'meaning': 'selamlamak'}, {'word': 'payîn', 'meaning': 'beklemek'}, {'word': 'pejirandin', 'meaning': 'kabullenmek'}, {'word': 'pekandin', 'meaning': 'sıçratmak'}, {'word': 'pelandin', 'meaning': 'yoklamak'}, {'word': 'pelixandin', 'meaning': 'ezmek'}, {'word': 'pelişîn', 'meaning': 'ezilmek, yıkılmak'}, {'word': 'peqandin', 'meaning': 'patlatmak'}, {'word': 'perçiqîn', 'meaning': 'ezilmek'}, {'word': 'perçifandin', 'meaning': 'şişirmek'}, {'word': 'perçifîn', 'meaning': 'şişmek'}, {'word': 'perisandin', 'meaning': 'geliştirmek'}, {'word': 'perisîn', 'meaning': 'açılmak, evrilmek'}, {'word': 'peritandin', 'meaning': 'yolmak, yırtılmak'}, {'word': 'peritî', 'meaning': 'yırtık pırtık'}, {'word': 'perpitîn', 'meaning': 'çırpınmak, debelenmek'}, {'word': 'perwerdebûn', 'meaning': 'eğitilmek'}, {'word': 'perwerdekirin', 'meaning': 'eğitmek'}, {'word': 'pestandin', 'meaning': 'zülmetmek'}, {'word': 'pevçûn', 'meaning': 'kavga 2-'}, {'word': 'peyivîn', 'meaning': 'konuşmak'}, {'word': 'peyvîn', 'meaning': 'konuşmak'}, {'word': 'pêçan', 'meaning': 'sarmak'}, {'word': 'pêçîn', 'meaning': 'sarmak, sarılmak'}, {'word': 'pêçûn', 'meaning': 'takip etmek'}, {'word': 'pêhesîn', 'meaning': 'duymak, farkına varmak'}, {'word': 'pêkanîn', 'meaning': 'meydana getirmek, yapmak'}, {'word': 'pêldan', 'meaning': 'dalgalanmak'}, {'word': 'pêlêkirin', 'meaning': 'basmak'}, {'word': 'pêşketin', 'meaning': 'gelişmek'}, {'word': 'pêşkêşkirin', 'meaning': 'sunmak'}, {'word': 'pêşnûmakirin', 'meaning': 'tasarlamak'}, {'word': 'pêşveçûn', 'meaning': 'ilerlemek'}, {'word': 'pêşwazîkirin', 'meaning': 'karşılamak'}, {'word': 'pêvekirin', 'meaning': 'eklemek'}, {'word': 'pêzanîn', 'meaning': 'bilmek'}, {'word': 'piçikîn', 'meaning': 'toplanmak, üşüşmek'}, {'word': 'piçûkbûn', 'meaning': 'küçülmek'}, {'word': 'piçûkkirin', 'meaning': 'küçültmek'}, {'word': 'pifkirin', 'meaning': 'üflemek'}, {'word': 'pijandin', 'meaning': 'pişirmek'}, {'word': 'pijiqandin', 'meaning': 'saçmak, sıçratmak'}, {'word': 'pijîn', 'meaning': 'pişmek'}, {'word': 'pirbûn', 'meaning': 'çoğalmak'}, {'word': 'pirkirin', 'meaning': 'çoğaltmak'}, {'word': 'pirsîn', 'meaning': 'sormak'}, {'word': 'pirxîn', 'meaning': 'horlamak'}, {'word': 'pişaftin', 'meaning': 'eritmek, ufalamak'}, {'word': 'pişkandin', 'meaning': 'hapşırtmak'}, {'word': 'pişkivîn', 'meaning': 'yırtılmak'}, {'word': 'pişkîn', 'meaning': 'hapşırmak'}, {'word': 'piştgirtin', 'meaning': 'desteklemek'}, {'word': 'pixkirin', 'meaning': 'püskürmek'}, {'word': 'pizbûn', 'meaning': 'kibirlenmek'}, {'word': 'pînekirin', 'meaning': 'yamamak'}, {'word': 'polandin', 'meaning': 'omuzlamak'}, {'word': 'ponijîn', 'meaning': 'derin düşünmek'}, {'word': 'postekirin', 'meaning': 'postalamak'}, {'word': 'posîdebûn', 'meaning': 'madara olmak'}, {'word': 'poşan', 'meaning': 'toslamak'}, {'word': 'pozbadan', 'meaning': 'burun kıvırmak'}, {'word': 'pûçkirin', 'meaning': 'çürütmek'}, {'word': 'pûlkirin', 'meaning': 'pullamak'}, {'word': 'pûn', 'meaning': 'serpilemek, dabaklamak'}, {'word': 'qajîn', 'meaning': 'bağırmak'}, {'word': 'qalkirin', 'meaning': 'bahsetmek'}, {'word': 'qarandin', 'meaning': 'kızdırmak'}, {'word': 'qareqarkirin', 'meaning': 'bağırmak'}, {'word': 'qarîn', 'meaning': 'kızmak'}, {'word': 'qarrîn', 'meaning': 'feryat etmek'}, {'word': 'qaşkirin', 'meaning': '1-soymak 2-yüzüğü taşlamak'}, {'word': 'qayilbûn', 'meaning': 'kabul etmek, icabet etmek'}, {'word': 'qayîmkirin', 'meaning': 'sağlamlaştırmak'}, {'word': 'qebzbûn', 'meaning': 'kabız olmak'}, {'word': 'qedandin', 'meaning': 'bitirmek'}, {'word': 'qedimandin', 'meaning': 'sunmak'}, {'word': 'qedîn', 'meaning': 'bitmek'}, {'word': 'qefilîn', 'meaning': '1-donmak 2-yorulmak'}, {'word': 'qehirîn', 'meaning': 'kahrolmak'}, {'word': 'qelandin', 'meaning': 'kavurmak'}, {'word': 'qelibandin', 'meaning': 'devirmek, çevirmek'}, {'word': 'qelibîn', 'meaning': 'devrilmek'}, {'word': 'qelişandin', 'meaning': 'yarmak'}, {'word': 'qelişîn', 'meaning': 'yarılmak'}, {'word': 'qelîn', 'meaning': 'kavurmak'}, {'word': 'qelskirin', 'meaning': 'zayıflatmak'}, {'word': 'qemirîn', 'meaning': 'bronzlaşmak'}, {'word': 'qencîkirin', 'meaning': 'iyilik yapmak'}, {'word': 'qerimandin', 'meaning': 'uyuşturmak'}, {'word': 'qerimîn', 'meaning': 'uyuşmak'}, {'word': 'qerisandin', 'meaning': 'dondurmak, ayazlatmak'}, {'word': 'qerisîn', 'meaning': 'donmak'}, {'word': 'qermiçandin', 'meaning': 'buru¸sturmak, bu¨zmek'}, {'word': 'qesidîn', 'meaning': 'yardım için birisine gitmek'}, {'word': 'qeşagirtin', 'meaning': 'buz tutmak'}, {'word': 'qeşengbûn', 'meaning': 'yakışıklı olmak'}, {'word': 'qetandin', 'meaning': 'koparmak'}, {'word': 'qetîn', 'meaning': 'kopmak'}, {'word': 'qewimîn', 'meaning': 'meydana gelmek, olmak'}, {'word': 'qewirandin', 'meaning': 'kovmak, defetmek'}, {'word': 'qewirîn', 'meaning': 'kovulmak'}, {'word': 'qewitandin', 'meaning': 'kovmak'}, {'word': 'qewitîn', 'meaning': 'defolmak'}, {'word': 'qêrîn', 'meaning': 'bağırmak'}, {'word': 'qijilandin', 'meaning': 'kızartmak'}, {'word': 'qijilîn', 'meaning': 'kızarmak'}, {'word': 'qijîn', 'meaning': 'cızırdamak'}, {'word': 'qirandin', 'meaning': 'yok etmek'}, {'word': 'qirçîn', 'meaning': 'çatırdamak'}, {'word': 'qirêjbûn', 'meaning': 'kirlenmek'}, {'word': 'qiriçandin', 'meaning': 'gıcırdamak'}, {'word': 'qirkirin', 'meaning': '1-yok etmek 2-katliam yapmak'}, {'word': 'qirpandin', 'meaning': 'çıtlatmak, kütürdetmek'}, {'word': 'qirpîn', 'meaning': 'çıtlamak, kütürdemek'}, {'word': 'qisekirin', 'meaning': 'konuşmak'}, {'word': 'qîçkirin', 'meaning': 'kırpmak'}, {'word': 'qîjîn', 'meaning': 'bağırmak, haykırmak'}, {'word': 'qîrandin', 'meaning': 'bağırmak'}, {'word': 'qopkirin', 'meaning': 'sakatlamak'}, {'word': 'qulbûn', 'meaning': 'delinmek'}, {'word': 'qulipandin', 'meaning': 'devirmek'}, {'word': 'qulipîn', 'meaning': 'devrilmek'}, {'word': 'qulkirin', 'meaning': 'delmek'}, {'word': 'qultandin', 'meaning': 'yudumlamak, yutmak'}, {'word': 'qurifandin', 'meaning': 'bükerek çıkarmak'}, {'word': 'qurîn', 'meaning': 'guruldamak'}, {'word': 'qurtandin', 'meaning': 'yudumlamak'}, {'word': 'qusandin', 'meaning': 'kesmek, kırpmak'}, {'word': 'qusîn', 'meaning': 'kırpılmak, kesilmek'}, {'word': 'qutbûn', 'meaning': 'kesilmek'}, {'word': 'qutifîn', 'meaning': 'donmak, çok korkmak'}, {'word': 'qutkirin', 'meaning': 'kesmek'}, {'word': 'raberkirin', 'meaning': 'izah etmek, sunmak'}, {'word': 'rabezîn', 'meaning': 'çatışmak, saldırıya geçmek'}, {'word': 'rabûn', 'meaning': 'kalkmak'}, {'word': 'raçandin', 'meaning': 'dokumak, türetmek'}, {'word': 'raçavkirin', 'meaning': 'dikizlemek, gözlemlemek'}, {'word': 'radan', 'meaning': 'sokmak, davranmak, örtmek'}, {'word': 'radestbûn', 'meaning': 'teslim olmak'}, {'word': 'ragihandin', 'meaning': '1-iletişim 2-'}, {'word': 'ragirtin', 'meaning': '1-dayanmak 2- iltihaplanmak 3-tutuklamak'}, {'word': 'rahêlandin', 'meaning': 'kapmak, üşüşmek'}, {'word': 'rahiştin', 'meaning': 'uzanıp almak, kapmak'}, {'word': 'raketin', 'meaning': 'yatmak, uyumak'}, {'word': 'rakêşandin', 'meaning': 'çekmek'}, {'word': 'rakirin', 'meaning': 'kaldırmak'}, {'word': 'ramedîn', 'meaning': 'yatmak, uzanmak'}, {'word': 'ramîn', 'meaning': 'düşünmek'}, {'word': 'ramûsandin', 'meaning': 'öptürmek'}, {'word': 'ramûsîn', 'meaning': 'öpmek'}, {'word': 'randin', 'meaning': 'sürmek, gütmek'}, {'word': 'rapêçan', 'meaning': 'sarmak'}, {'word': 'rapelikîn', 'meaning': 'dikelmek, atılmak'}, {'word': 'raperîn', 'meaning': 'baş kaldırmak, isyan etmek'}, {'word': 'rastbûn', 'meaning': 'doğru olmak'}, {'word': 'rasthatin', 'meaning': 'karşılaşmak'}, {'word': 'rastkirin', 'meaning': 'doğrultmak'}, {'word': 'ravekirin', 'meaning': 'göstermek, açıklamak'}, {'word': 'rawerîn', 'meaning': 'yalvarmak'}, {'word': 'rawestandin', 'meaning': 'durmak, mola vermek'}, {'word': 'raxistin', 'meaning': 'sermek'}, {'word': 'razan', 'meaning': 'yatmak, uyumak'}, {'word': 'razandin', 'meaning': 'yatırmak'}, {'word': 'razîbûn', 'meaning': 'razı olmak'}, {'word': 'razîkirin', 'meaning': 'razı etmek'}, {'word': 'regezperest', 'meaning': 'ırkçı'}, {'word': 'rengandin', 'meaning': 'renklendirmek'}, {'word': 'rengdan', 'meaning': 'renk vermek'}, {'word': 'repbûn', 'meaning': '1-dikilmek   2-'}, {'word': 'reqisandin', 'meaning': 'oynamak, göbet atmak'}, {'word': 'reşandin', 'meaning': 'saçmak, serpmek'}, {'word': 'reşbûn', 'meaning': 'siyahlaşmak'}, {'word': 'revandin', 'meaning': 'kaçırmak'}, {'word': 'revîn', 'meaning': 'kaçmak'}, {'word': 'rexnekirin', 'meaning': 'eleştirmek'}, {'word': 'rêçûn', 'meaning': 'yol katetmek'}, {'word': 'rêsîn', 'meaning': 'eğirmek'}, {'word': 'rêvebirin', 'meaning': 'yürütmek, yönetmek'}, {'word': 'rêxistin', 'meaning': '1-'}, {'word': 'rêzbûn', 'meaning': 'dizilmek'}, {'word': 'rêzgirtin', 'meaning': 'saygı göstermek'}, {'word': 'rêzkirin', 'meaning': 'dizmek'}, {'word': 'rihetbûn', 'meaning': 'rahatlamak'}, {'word': 'rihetkirin', 'meaning': 'rahatlatmak'}, {'word': 'rijandin', 'meaning': 'dökmek'}, {'word': 'rijîn', 'meaning': 'dökülmek'}, {'word': 'ringandin', 'meaning': 'çınlatmak'}, {'word': 'ringîn', 'meaning': 'çınlamak, şıngırdamak'}, {'word': 'ristin', 'meaning': 'eğirmek'}, {'word': 'rizandin', 'meaning': 'çürütmek'}, {'word': 'rizîbûn', 'meaning': 'çürümek'}, {'word': 'rizîkirin', 'meaning': 'çürütmek'}, {'word': 'rizîn', 'meaning': 'çürümek'}, {'word': 'rîtin', 'meaning': 'sıçmak'}, {'word': 'rojbûn', 'meaning': '1-doğmak 2-'}, {'word': 'rojhilatin', 'meaning': 'doğmak(güneş)'}, {'word': 'rojîgirtin', 'meaning': 'oruç tutmak'}, {'word': 'rûbadan', 'meaning': 'yüz çevirmek'}, {'word': 'rûçikandin', 'meaning': 'yolmak'}, {'word': 'rûdan', 'meaning': 'yüz vermek'}, {'word': 'rûmetdan', 'meaning': 'değer vermek'}, {'word': 'rûniştandin', 'meaning': 'oturtmak'}, {'word': 'rûniştin', 'meaning': 'oturmak'}, {'word': 'rûnkirin', 'meaning': 'yağlamak'}, {'word': 'rûtbûn', 'meaning': 'çıplak olmak'}, {'word': 'rûtkirin', 'meaning': 'çıplak etmek, soymak'}, {'word': 'rûxandin', 'meaning': 'yıkmak, tahrip etmek'}, {'word': 'saloxandin', 'meaning': 'haber vermek'}, {'word': 'sarbûn', 'meaning': 'soğumak'}, {'word': 'sarkirin', 'meaning': 'soğutmak'}, {'word': 'saxbûn', 'meaning': 'iyileşmek'}, {'word': 'saxkirin', 'meaning': 'iyleştirmek'}, {'word': 'sazbûn', 'meaning': 'kurulmak'}, {'word': 'sazkirin', 'meaning': 'kurmak, düzenlemek'}, {'word': 'sefandin', 'meaning': 'süzmek, damıtmak'}, {'word': 'sefîn', 'meaning': 'süzülmek'}, {'word': 'sehbûn', 'meaning': 'sezilmek'}, {'word': 'sekinîn', 'meaning': 'durmak'}, {'word': 'sehkirin', 'meaning': 'sezmek, aramak'}, {'word': 'selixîn', 'meaning': 'tembelleşmek'}, {'word': 'selmandin', 'meaning': 'ispat etmek'}, {'word': 'sengandin', 'meaning': 'tartmak'}, {'word': 'senidandin', 'meaning': 'duraklamak, az beklemek'}, {'word': 'senidîn', 'meaning': 'durmak'}, {'word': 'sepandin', 'meaning': 'tatbik etmek'}, {'word': 'seqakirin', 'meaning': 'bilemek'}, {'word': 'serhevde', 'meaning': 'kötü örnek'}, {'word': 'seridîn', 'meaning': '1-elenmek 2-olgunlaşmak'}, {'word': 'serjêkirin', 'meaning': 'kesmek'}, {'word': 'serkeftin', 'meaning': '1-başarı, zafer 2-'}, {'word': 'sermagirtin', 'meaning': '1-soğuk algınlığı 2-'}, {'word': 'serwextbûn', 'meaning': 'anlamak, kavramak'}, {'word': 'seyandin', 'meaning': 'sıvamak'}, {'word': 'silikandin', 'meaning': 'kızdırmak'}, {'word': 'silikîn', 'meaning': 'kızmak'}, {'word': 'simandin', 'meaning': 'delmek, yapıştırmak'}, {'word': 'sinifandin', 'meaning': 'sınıflandırmak'}, {'word': 'sinifîn', 'meaning': 'sınıflanmak'}, {'word': 'sipartin', 'meaning': 'korumak, sığınmak'}, {'word': 'sistbûn', 'meaning': 'gevşemek'}, {'word': 'sistkirin', 'meaning': 'gevşetmek'}, {'word': 'sitirandin', 'meaning': 'yoğurmak'}, {'word': 'siwarbûn', 'meaning': 'binmek'}, {'word': 'sotin', 'meaning': 'yakmak'}, {'word': 'spartin', 'meaning': 'emanet etmek, teslim etmek'}, {'word': 'spaskirin', 'meaning': 'teşekkür etmek'}, {'word': 'standin', 'meaning': 'almak'}, {'word': 'strîn', 'meaning': 'korunmak'}, {'word': 'stûrbûn', 'meaning': 'kalınlaşmak'}, {'word': 'sûtin', 'meaning': 'bilemek'}, {'word': 'şabaşkirin', 'meaning': 'bahşiş vermek'}, {'word': 'şabûn', 'meaning': 'eğlenmek, sevinmek'}, {'word': 'şandin', 'meaning': 'göndermek, yollamak'}, {'word': 'şanîdan', 'meaning': 'göstermek'}, {'word': 'şarezabûn', 'meaning': 'uzmanlaşmak'}, {'word': 'şaşbûn', 'meaning': 'şaşırmak'}, {'word': 'şaşkirin', 'meaning': 'şaşırtmak'}, {'word': 'şaşman', 'meaning': 'şaşırıp kalmak'}, {'word': 'şaxdan', 'meaning': 'dal budak salmak'}, {'word': 'şayesandin', 'meaning': 'betimlemek'}, {'word': 'şayeserkirin', 'meaning': 'betimlemek'}, {'word': '-', 'meaning': 'dil sürçmesi, gaf 2-'}, {'word': 'şeliqandin', 'meaning': 'yanmak, közlenmek'}, {'word': 'şemitandin', 'meaning': 'kaydırmak'}, {'word': 'şemitîn', 'meaning': 'kaymak'}, {'word': 'şepilandin', 'meaning': 'ağızdan kaçırmak'}, {'word': 'şeqandin', 'meaning': 'bilemek'}, {'word': 'şerkirin', 'meaning': 'kavga etmek'}, {'word': 'şermezarkirin', 'meaning': 'kınamak'}, {'word': 'şermkirin', 'meaning': 'utanmak'}, {'word': 'şewitandin', 'meaning': 'yakmak'}, {'word': 'şewişîn', 'meaning': 'sendelemek'}, {'word': 'şêlandin', 'meaning': 'soymak, yol kesmek'}, {'word': 'şêlîn', 'meaning': 'soyulmak, yolu kesilmek'}, {'word': 'şêtkirin', 'meaning': 'çeperlemek'}, {'word': 'şêwirîn', 'meaning': 'danışmak'}, {'word': 'şêyîn', 'meaning': 'kişnemek'}, {'word': 'şibîn', 'meaning': 'benzemek'}, {'word': 'şidandin', 'meaning': 'sıkmak'}, {'word': 'şikandin', 'meaning': 'kırmak'}, {'word': 'şilbûn', 'meaning': 'ıslanmak'}, {'word': 'şingîn', 'meaning': 'şangırdamak'}, {'word': 'şixulandin', 'meaning': 'çalışmak'}, {'word': 'şiyan', 'meaning': '–ebilmek'}, {'word': 'şînbûn', 'meaning': 'yeşermek'}, {'word': 'şîretdan', 'meaning': 'öğüt vermek'}, {'word': 'şkestin', 'meaning': 'kırılmak'}, {'word': 'şopandin', 'meaning': 'iz sürmek, araştırmak'}, {'word': 'şorkirin', 'meaning': '1- laflamak, konuşmak 2-tuzlamak'}, {'word': 'şûkirin', 'meaning': 'kocaya vermek'}, {'word': 'şûndagirtin', 'meaning': 'geri almak'}, {'word': 'şûşakirin', 'meaning': 'bıcı bıcı   yapmak'}, {'word': 'şûştin', 'meaning': 'yıkamak'}, {'word': 'tafîlbûn', 'meaning': 'temizlenmek'}, {'word': 'tafîlkirin', 'meaning': 'temizlemek'}, {'word': 'tagirtin', 'meaning': 'ateşlenmek, sancı tutmak'}, {'word': 'talankirin', 'meaning': 'talan etmek'}, {'word': 'talbûn', 'meaning': 'acı olmak'}, {'word': 'tamandin', 'meaning': 'tattırmak'}, {'word': 'tamkirin', 'meaning': 'tatmak'}, {'word': 'tamdan', 'meaning': 'itmek, tat vermek'}, {'word': 'tamijîn', 'meaning': 'cezbolmak, tadına varmak'}, {'word': 'tarbûn', 'meaning': 'paylaşılrmak, dağılmak'}, {'word': 'tarîkirin', 'meaning': 'karanlık yapmak'}, {'word': 'tarkirin', 'meaning': 'paylaştırmak, dağıtmak'}, {'word': 'tawanbarbûn', 'meaning': 'suçlanmak'}, {'word': 'tawanbarkirin', 'meaning': 'suçlamak'}, {'word': 'tawankirin', 'meaning': 'suç işlemek'}, {'word': 'tazekirin', 'meaning': 'tazelemek'}, {'word': 'tebitandin', 'meaning': 'sakinleştirmek'}, {'word': 'tefandin', 'meaning': 'söndürmek'}, {'word': 'tefîn', 'meaning': 'sönmek'}, {'word': 'telaqavêtin', 'meaning': 'boşanmak'}, {'word': 'temartin', 'meaning': 'gömmek'}, {'word': 'temekirin', 'meaning': 'tembih etmek'}, {'word': 'temirandin', 'meaning': 'söndürmek'}, {'word': 'temirîn', 'meaning': 'sönmek'}, {'word': 'tenabûn', 'meaning': 'ıssız olmak'}, {'word': 'tengavbûn', 'meaning': 'sıkılmak'}, {'word': 'tengavkirin', 'meaning': 'sıkmak'}, {'word': 'tengbûn', 'meaning': 'daralmak'}, {'word': 'tengijîn', 'meaning': 'sıkışmak'}, {'word': 'tenikkirin', 'meaning': 'inceltmek'}, {'word': 'tepisandin', 'meaning': 'tepelemek'}, {'word': 'tepisîn', 'meaning': 'tepelenmek'}, {'word': 'tepîn', 'meaning': 'tepinmek'}, {'word': 'teqandin', 'meaning': 'patlatmak'}, {'word': 'teqinîn', 'meaning': 'çamura batmak'}, {'word': 'teqîn', 'meaning': 'patlamak'}, {'word': 'terabûn', 'meaning': 'yüksekten düşmek'}, {'word': 'terafkirin', 'meaning': 'yolmak'}, {'word': 'terbûn', 'meaning': 'taze veya yaş olmak'}, {'word': 'terikandin', 'meaning': 'terketmek, ayrılmak'}, {'word': 'terpilîn', 'meaning': 'tökezlemek, sendelemek'}, {'word': 'terxankirin', 'meaning': 'ayırmak, tahsis etmek'}, {'word': 'tevdan', 'meaning': 'karıştırmak'}, {'word': 'tevizandin', 'meaning': 'uyuşturmak'}, {'word': 'tevizîn', 'meaning': 'uyuşmak'}, {'word': 'tevkirin', 'meaning': 'katmak'}, {'word': 'tevnkirin', 'meaning': 'dokumak'}, {'word': 'tevîbûn', 'meaning': 'karışmak'}, {'word': 'tewandin', 'meaning': 'bükmek, eğmek'}, {'word': 'tewilandin', 'meaning': 'bağlatmak, çaktırmak'}, {'word': 'tewilkirin', 'meaning': 'bağlamak, çakmak'}, {'word': 'tewirandin', 'meaning': 'kaçırmak'}, {'word': 'tewirîn', 'meaning': 'kaçmak'}, {'word': 'tewişîn', 'meaning': 'sendelemek'}, {'word': 'texîrbûn', 'meaning': 'ertelenmek'}, {'word': 'texîrkirin', 'meaning': 'ertelemek'}, {'word': 'teyisîn', 'meaning': 'parlamak'}, {'word': 'têçûn', 'meaning': 'akıtmak, kaçırmak'}, {'word': 'têdan', 'meaning': 'sürmek'}, {'word': 'têderxistin', 'meaning': 'hissetmek'}, {'word': 'têgerandin', 'meaning': 'bulaştırmak'}, {'word': 'têgerîn', 'meaning': 'bulaşmak'}, {'word': 'têgihandin', 'meaning': 'anlamasını sağlamak'}, {'word': 'têgihiştin', 'meaning': 'anlamak'}, {'word': 'têgihîn', 'meaning': 'anlamak, kavramak'}, {'word': 'têketin', 'meaning': 'girmek'}, {'word': 'têkoşîn', 'meaning': '1-mücadele etmek 2-'}, {'word': 'têkçûn', 'meaning': 'dağılmak, bozguna uğramak'}, {'word': 'têrbûn', 'meaning': 'doymak'}, {'word': 'têrkirin', 'meaning': 'doyurmak'}, {'word': 'têrxwarin', 'meaning': 'yeterince yemek'}, {'word': 'têvel', 'meaning': 'muhtelif, çeşitli'}, {'word': 'tiftifandin', 'meaning': 'bezemek, süslemek'}, {'word': 'tiftifîn', 'meaning': 'süslenmek'}, {'word': 'tijîbûn', 'meaning': 'dolmak'}, {'word': 'tijîkirin', 'meaning': 'doldurmak'}, {'word': 'tikakirin', 'meaning': 'rica etmek'}, {'word': 'tinazwer', 'meaning': 'ironik'}, {'word': 'tingijîn', 'meaning': 'dolmak, kızmak'}, {'word': 'tiranekirin', 'meaning': 'şaka yapmak'}, {'word': 'tirsandin', 'meaning': 'korkutmak'}, {'word': 'tirsîn', 'meaning': 'korkmak'}, {'word': 'tixûbkirin', 'meaning': 'sınırlamak'}, {'word': 'tîbûn', 'meaning': 'susamak'}, {'word': 'tîkbûn', 'meaning': 'dikilmek'}, {'word': 'tîkirin', 'meaning': 'susatmak'}, {'word': 'tîqîn', 'meaning': 'kahkaha atmak'}, {'word': 'tîravêtin', 'meaning': 'ok atmak'}, {'word': 'tîrbûn', 'meaning': 'yoğunlaşmak, katılaşmak'}, {'word': 'tobekirin', 'meaning': 'tövbe etmek'}, {'word': 'tolgirtin', 'meaning': 'öç almak'}, {'word': 'tolhildan', 'meaning': 'öç almak'}, {'word': 'tomarkirin', 'meaning': 'kaydetmek, yığmak'}, {'word': 'toplîstin', 'meaning': 'top oynamak'}, {'word': 'tozîkiin', 'meaning': 'dilimlemek'}, {'word': 'tunebûn', 'meaning': 'yokluk, yok olmak'}, {'word': 'tûjbûn', 'meaning': 'acı olmak, keskinleşmek'}, {'word': 'tûjkirin', 'meaning': 'keskinleştirmek'}, {'word': 'tûşbûn', 'meaning': 'duçar olmak, maruz kalmak, çarpmak'}, {'word': 'ûrîn', 'meaning': 'ulumak'}, {'word': 'valabûn', 'meaning': 'boşalmak'}, {'word': 'valakirin', 'meaning': 'boşaltmak'}, {'word': 'varqilîn', 'meaning': 'farkına varmak'}, {'word': 'vebêjîn', 'meaning': 'söylemek'}, {'word': 'vebijartin', 'meaning': 'ayıklamak'}, {'word': 'vebijîn', 'meaning': 'çözülmek'}, {'word': 'vebirîn', 'meaning': 'kesmek, ayırmak'}, {'word': 'vebûn', 'meaning': 'açılmak'}, {'word': 'veciniqandin', 'meaning': 'ürkütmek, irkiltmek'}, {'word': 'veciniqîn', 'meaning': 'ürkmek, irkilmek'}, {'word': 'veçinîn', 'meaning': 'dokumak'}, {'word': 'vedan', 'meaning': '1-kazmak, eşmek 2-çakmak'}, {'word': 'vedîtin', 'meaning': 'keşfetmek'}, {'word': 'vedizîn', 'meaning': 'saklanmak'}, {'word': 'vegerandin', 'meaning': 'döndürmek'}, {'word': 'vegerîn', 'meaning': 'dönmek'}, {'word': 'vegirtin', 'meaning': 'geri almak, fethetmek'}, {'word': 'vegotin', 'meaning': 'anlatmak'}, {'word': 'veguhartin', 'meaning': 'değiştirmek'}, {'word': 'veguherandin', 'meaning': 'dönüştürmek'}, {'word': 'veguherîn', 'meaning': 'dönüşmek'}, {'word': 'veguheztin', 'meaning': 'nakletmek'}, {'word': 'vejenîn', 'meaning': 'parıldamak'}, {'word': 'vekirin', 'meaning': 'açmak'}, {'word': 'vekîtandin', 'meaning': 'hecelemek'}, {'word': 'vekolîn', 'meaning': 'incelemek'}, {'word': 'vekuştin', 'meaning': 'söndürmek, öldürmek'}, {'word': 'veman', 'meaning': 'geç kalmak'}, {'word': 'vemirandin', 'meaning': 'söndürmek'}, {'word': 'vemirîn', 'meaning': 'sönmek'}, {'word': 'venandin', 'meaning': 'dikmek'}, {'word': 'venasîn', 'meaning': '1-tanınmak 2-itiraf etmek'}, {'word': 'veqetandin', 'meaning': 'ayırmak'}, {'word': 'veqetîn', 'meaning': 'ayrılmak'}, {'word': 'verişîn', 'meaning': 'kusmak'}, {'word': 'verişandin', 'meaning': 'kusturmak'}, {'word': 'verotin', 'meaning': 'kazımak'}, {'word': 'veşartin', 'meaning': 'saklamak'}, {'word': 'veşûştin', 'meaning': 'durulamak'}, {'word': 'vetirsîn', 'meaning': 'korkmak'}, {'word': 'vetokirin', 'meaning': 'veto etmek'}, {'word': 'vexwarin', 'meaning': 'içmek'}, {'word': 'vexwendin', 'meaning': 'davet etmek'}, {'word': 'vezelandin', 'meaning': 'oturtmak, yatırmak'}, {'word': 'vezelîn', 'meaning': 'oturmak, yatmak'}, {'word': 'vêketin', 'meaning': 'yanmak, tutuşmak'}, {'word': 'vêsandin', 'meaning': 'dinlendermek'}, {'word': 'vêxistin', 'meaning': 'yakmak, tutuşturmak, uyandırmak'}, {'word': 'virkirin', 'meaning': 'yalan söylemek'}, {'word': 'virtoqîbûn', 'meaning': 'cıvıklaşmak'}, {'word': 'virtoqîkirin', 'meaning': 'cıvıklaştırmak'}, {'word': 'virvirîn', 'meaning': 'savrulmak'}, {'word': 'vitvitîn', 'meaning': 'depreşmek, kıpırdamak'}, {'word': 'vizbûn', 'meaning': 'usanmak'}, {'word': 'vizkirin', 'meaning': 'usandırmak'}, {'word': 'wanedan', 'meaning': 'ders vermek'}, {'word': 'waqîn', 'meaning': 'vakvaklamak, viyaklamak'}, {'word': 'wefatkirin', 'meaning': 'ölmek'}, {'word': 'welidandin', 'meaning': 'doğurmak'}, {'word': 'welidîn', 'meaning': 'doğmak'}, {'word': 'wendabûn', 'meaning': 'kaybolmak'}, {'word': 'werarkirin', 'meaning': 'geliştirmek'}, {'word': 'werbûn', 'meaning': '1-yuvarlanmak 2-öyle olmak'}, {'word': 'werçerxandin', 'meaning': 'döndürmek'}, {'word': 'werdan', 'meaning': 'çalkalamak'}, {'word': 'wergerandin', 'meaning': 'çevirmek'}, {'word': 'wergerîn', 'meaning': 'çevrilmek'}, {'word': 'werimandin', 'meaning': 'şişirmek'}, {'word': 'werimîn', 'meaning': 'şişmek'}, {'word': 'weritîn', 'meaning': 'yanılmak'}, {'word': 'werîn', 'meaning': 'dökülmek, serpilmek'}, {'word': 'werkirin', 'meaning': '1-savurmak, serpmek 2-öyle yapmak'}, {'word': 'wesandin', 'meaning': 'haber almak'}, {'word': 'wesifandin', 'meaning': 'nitelemek'}, {'word': 'westandin', 'meaning': 'yormak'}, {'word': 'westîn', 'meaning': 'yorulmak'}, {'word': 'weşandin', 'meaning': '1-dökmek 2-yayınlamak'}, {'word': 'weşîn', 'meaning': 'dökülmek'}, {'word': 'wezinandin', 'meaning': 'tartmak'}, {'word': 'wênegirtin', 'meaning': 'fotograf çekmek'}, {'word': 'wêranbûn', 'meaning': 'viran olmak, yıkılmak'}, {'word': 'wêrankirin', 'meaning': 'yıkmak'}, {'word': 'wêrîn', 'meaning': 'cesaret etmek'}, {'word': 'windabûn', 'meaning': 'kaybolmak'}, {'word': 'windakirin', 'meaning': 'kaybetmek'}, {'word': 'xalîbûn', 'meaning': 'boşalmak, tenhalaşmak'}, {'word': 'xalîkirin', 'meaning': 'boşaltmak, tenhalaştırmak'}, {'word': 'xama', 'meaning': 'ergen'}, {'word': 'xapandin', 'meaning': 'kandırmak, oyuna getirmek'}, {'word': 'xapîn', 'meaning': 'kanmak, aldanmak'}, {'word': 'xaşandin', 'meaning': 'haşlamak'}, {'word': 'xatirxwestin', 'meaning': 'vedalaşmak'}, {'word': 'xayîzbûn', 'meaning': 'içi geçmek, bayılmak'}, {'word': 'xebatkirin', 'meaning': 'çalışmak'}, {'word': 'xebitandin', 'meaning': 'çalıştırmak'}, {'word': 'xebitîn', 'meaning': 'çalışmak'}, {'word': 'xefandin', 'meaning': 'gizlemek'}, {'word': 'xefirandin', 'meaning': 'affetmek'}, {'word': 'xefîn', 'meaning': 'gizlenmek, uyumak'}, {'word': 'xelatdan', 'meaning': 'ödül vermek'}, {'word': 'xelatkirin', 'meaning': 'ödüllendirmek'}, {'word': 'xemilandin', 'meaning': 'süslemek'}, {'word': 'xemilkirin', 'meaning': 'süs yapmak'}, {'word': 'xemilîn', 'meaning': 'süslenmek'}, {'word': 'xeniqandin', 'meaning': 'boğmak'}, {'word': 'xeparkirin', 'meaning': 'çapalamak'}, {'word': 'xepirandin', 'meaning': 'çapalamak, eşelemek'}, {'word': 'xercbûn', 'meaning': 'harcanmak'}, {'word': 'xerckirin', 'meaning': 'harcamak'}, {'word': 'xeriqandin', 'meaning': 'bayıltmak'}, {'word': 'xeriqîn', 'meaning': 'bayılmak'}, {'word': 'xerîbûn', 'meaning': 'yabancı olmak'}, {'word': 'xesandin', 'meaning': 'burkmak'}, {'word': 'xewirîn', 'meaning': 'bayılmak, baymak'}, {'word': 'xewndîtin', 'meaning': 'rüya görmek'}, {'word': 'xewîn', 'meaning': 'uyumak'}, {'word': 'xeybkirin', 'meaning': 'gıybet yapmak'}, {'word': 'xeydandin', 'meaning': 'küstürmek'}, {'word': 'xeydîn', 'meaning': 'küsmek'}, {'word': 'xêzkirin', 'meaning': 'çizmek'}, {'word': 'xêzkişandin', 'meaning': 'çizgi çekmek'}, {'word': 'xilxilîn', 'meaning': 'dağılmak, kıpraşmak'}, {'word': 'xingilîn', 'meaning': 'sarkmak'}, {'word': 'xirabkirin', 'meaning': 'bozmak, yıkmak'}, {'word': 'xiran', 'meaning': 'aldanmak'}, {'word': 'xirandin', 'meaning': 'aldatmak'}, {'word': 'xirbûn', 'meaning': 'toplanmak'}, {'word': 'xirekirin', 'meaning': 'laçkalamak'}, {'word': 'xirexirkirin', 'meaning': 'hırıldamak'}, {'word': 'xirifandin', 'meaning': 'bunaltmak'}, {'word': 'xirifîn', 'meaning': 'bunamak'}, {'word': 'xirîn', 'meaning': 'horlamak'}, {'word': 'xirkirin', 'meaning': 'toplamak'}, {'word': 'xirmîn', 'meaning': 'gümbürdemek'}, {'word': 'xirtîn', 'meaning': 'takırdamak, kütürdemek'}, {'word': 'xirxirkirin', 'meaning': 'horuldamak'}, {'word': 'xistin', 'meaning': 'düşürmek'}, {'word': 'xişîn', 'meaning': 'sürünmek, hışırdamak'}, {'word': 'xişînkirin', 'meaning': 'süründürmek'}, {'word': 'xitimandin', 'meaning': 'kapatmak, bitirtmek'}, {'word': 'xitimkirin', 'meaning': 'bitirmek'}, {'word': 'xizanbûn', 'meaning': 'yoksul olmak'}, {'word': 'xizankirin', 'meaning': 'yoksullaştırmak'}, {'word': 'xîçbûn', 'meaning': 'fitleşmek'}, {'word': 'xîçkirin', 'meaning': 'fitleştirmek, çıkarmak'}, {'word': 'xuliqandin', 'meaning': 'yaratmak'}, {'word': 'xuliqîn', 'meaning': 'yaratılmak'}, {'word': 'xuran', 'meaning': 'kaşınmak'}, {'word': 'xurandin', 'meaning': 'kaşımak'}, {'word': 'xurifîn', 'meaning': 'bunamak'}, {'word': 'xurîn', 'meaning': 'kaşınmak'}, {'word': 'xurtbûn', 'meaning': 'kilo almak'}, {'word': 'xurtkirin', 'meaning': 'kilo aldırmak'}, {'word': 'xuşîn', 'meaning': '1-çağlamak 2-hışırdamak'}, {'word': 'xuyandin', 'meaning': 'görünmek'}, {'word': 'xwarbûn', 'meaning': 'eğrilmek'}, {'word': 'xwarin', 'meaning': 'yemek'}, {'word': 'xwarkirin', 'meaning': 'eğmek'}, {'word': 'xwedîbûn', 'meaning': 'sahiplenmek'}, {'word': 'xwedîkirin', 'meaning': 'beslemek, büyütmek'}, {'word': 'xwegirtin', 'meaning': 'kendini tutmak'}, {'word': 'xwehatin', 'meaning': 'kendine gelmek'}, {'word': 'xwekuştin', 'meaning': 'intihar etmek'}, {'word': 'xwenasîn', 'meaning': 'kendini bilmek'}, {'word': 'xwendin', 'meaning': 'okumak'}, {'word': 'xwenîşandan', 'meaning': 'gösteri yapmak'}, {'word': 'xweparastin', 'meaning': 'korunmak'}, {'word': 'xwepêşandan', 'meaning': 'gösteri yapmak'}, {'word': 'xwestin', 'meaning': 'istemek'}, {'word': 'xweşbûn', 'meaning': 'hoş olmak'}, {'word': 'xweşkirin', 'meaning': 'hazırlanmak,ballandırmak'}, {'word': 'xweyîbûn', 'meaning': 'beslenmek'}, {'word': 'xwêdan', 'meaning': '1-terlemek 2-tuzlamak'}, {'word': 'xwêkirin', 'meaning': 'tuzlatmak'}, {'word': 'yadkirin', 'meaning': 'anmak'}, {'word': 'yarîkirin', 'meaning': 'oynamak'}, {'word': 'yekbûn', 'meaning': 'birleşmek'}, {'word': 'yekbûyî', 'meaning': 'birleşik'}, {'word': 'yekkirin', 'meaning': 'birleştirmek'}, {'word': 'yêxbûn', 'meaning': 'çökmek (deve), düşmek'}, {'word': 'yêxkirin', 'meaning': 'çökertmek, düşürmek'}, {'word': 'zan', 'meaning': 'doğum yapmak, doğurmak'}, {'word': 'zanîn', 'meaning': 'bilmek'}, {'word': 'zarezarkirin', 'meaning': 'feryat etmek'}, {'word': 'zarîn', 'meaning': '1-figan 2-'}, {'word': 'zayîn', 'meaning': 'doğum yapmak, doğurmak'}, {'word': 'zeftbûn', 'meaning': 'tutulmak, zaptedilmek'}, {'word': 'zeftkirin', 'meaning': 'tutmak, zaptetmek'}, {'word': 'zehfkirin', 'meaning': 'çoğaltmak'}, {'word': 'zelalkirin', 'meaning': 'durulamak'}, {'word': 'zeliqandin', 'meaning': 'yapıştırmak'}, {'word': 'zeliqîn', 'meaning': 'yapışmak'}, {'word': 'zemkirin', 'meaning': '1-dedikodu yapmak 2-zam yapmak'}, {'word': 'zendemayîn', 'meaning': 'ibret almak, şaşmak'}, {'word': 'zenkirin', 'meaning': 'sanmak, tahmin etmek'}, {'word': 'zewicandin', 'meaning': 'evlendirmek'}, {'word': 'zewicîn', 'meaning': 'evlenmek'}, {'word': 'zewqdan', 'meaning': 'zevk vermek'}, {'word': 'zexmbûn', 'meaning': 'dayanıklı olmak, sağlamlaşmak'}, {'word': 'zexmkirin', 'meaning': 'dayanıklı yapmak, sağlamlaştırmak'}, {'word': 'zêdebûn', 'meaning': 'çoğalmak'}, {'word': 'zêdekirin', 'meaning': 'çoğaltmak'}, {'word': 'zêlkirin', 'meaning': 'eti dilimlemek'}, {'word': 'zêndan', 'meaning': 'bakmak'}, {'word': 'êpbûn', 'meaning': 'elle sıvanmak'}, {'word': 'êpkirin', 'meaning': 'elle sıvamak'}, {'word': 'zêrandin', 'meaning': 'yaldızlamak, altınlamak'}, {'word': 'zêrkirin', 'meaning': 'altınlamak'}, {'word': 'zibarekirin', 'meaning': 'imece yapmak'}, {'word': 'zibildan', 'meaning': 'gübrelemek'}, {'word': 'zibilkirin', 'meaning': 'gübreletmek'}, {'word': 'zikêşan', 'meaning': 'karnı ağırmak'}, {'word': 'zillûtbûn', 'meaning': 'züğürt olmak'}, {'word': 'zimîn', 'meaning': 'gümlemek'}, {'word': 'zinakirin', 'meaning': 'zina yapmak'}, {'word': 'zindîbûn', 'meaning': 'canlı olmak'}, {'word': 'zingîn', 'meaning': 'gümlemek, patlamak'}, {'word': 'zinîn', 'meaning': 'sarmak'}, {'word': 'zirandin', 'meaning': 'anırtmak'}, {'word': 'zirîn', 'meaning': 'anırmak'}, {'word': 'zirtkirin', 'meaning': 'palavra atmak'}, {'word': 'zirzirkirin', 'meaning': 'zırlamak'}, {'word': 'zivêrkirin', 'meaning': 'taciz etmek'}, {'word': 'zivirandin', 'meaning': 'çevirmek, döndürmek'}, {'word': 'zivirîn', 'meaning': 'dönmek'}, {'word': 'ziyankirin', 'meaning': 'ziyan etmek'}, {'word': 'ziyaretkirin', 'meaning': 'ziyaret yapmak'}, {'word': 'zîldan', 'meaning': 'filizlenmek'}, {'word': 'zînkirin', 'meaning': 'eyerlemek'}, {'word': 'zîqandin', 'meaning': 'anırtmak, gıcırdatmak'}, {'word': 'zîqîn', 'meaning': 'anırmak, gıcırdamak'}, {'word': 'zîrekbûn', 'meaning': 'cesaretli olmak'}, {'word': 'zîrekkirin', 'meaning': 'cesaretlendirmek'}, {'word': 'zîvêrbûn', 'meaning': 'rahatsız olmak'}, {'word': 'zîvêrkirin', 'meaning': 'rahatsız etmek'}, {'word': 'zîvkirin', 'meaning': 'gümüşlendirmek'}, {'word': 'zuhabûn', 'meaning': 'kurumak'}, {'word': 'zuhakirin', 'meaning': 'kurutmak'}, {'word': 'zûkirin', 'meaning': 'acele etmek'}, {'word': 'zûlkirin', 'meaning': 'dilimlemek'}, {'word': 'zûrbûn', 'meaning': 'bakakalmak, gözünü dikmek'}, {'word': 'zûrîn', 'meaning': 'ulumak'}, {'word': 'zûrkirin', 'meaning': 'gözünü kısarak bakmak'}, {'word': 'açmak', 'meaning': 'vekirin'}]\n"
          ]
        }
      ]
    },
    {
      "cell_type": "code",
      "source": [
        "verb_list = []\n",
        "with open(\"verb_transitivity.txt\", \"r\", encoding=\"utf-8-sig\") as file:\n",
        "  lines = file.readlines()\n",
        "  for line in lines:\n",
        "    if len(line) > 1:\n",
        "      verb_list.append(line.replace(\"\\n\", \"\"))\n",
        "\n",
        "  transitive_verb_list = []\n",
        "  intransitive_verb_list = []\n",
        "  for item in verb_list:\n",
        "    if \"intransitive\" in item:\n",
        "        intransitive_verb_list.append(item.split(':')[0].strip())\n",
        "    else:\n",
        "        transitive_verb_list.append(item.split(':')[0].strip())"
      ],
      "metadata": {
        "id": "RtymYkCirajD"
      },
      "execution_count": 3,
      "outputs": []
    },
    {
      "cell_type": "code",
      "source": [
        "kurmanji_verb_list = []\n",
        "for i in dictionary:\n",
        "  if i.get(\"word\") in transitive_verb_list:\n",
        "    i['Transitive'] = True\n",
        "  elif i.get(\"word\") in intransitive_verb_list:\n",
        "    i['Transitive'] = False\n",
        "  else:\n",
        "    i['Transitive'] = True\n",
        "\n",
        "  if i.get(\"word\")[-2:] == \"în\":\n",
        "    i[\"past_root\"] = i.get(\"word\")[:-2] + \"î\"\n",
        "    i[\"present_root\"] = i.get(\"word\")[:-2]\n",
        "    i['Transitive'] = False\n",
        "  elif i.get(\"word\")[-3:] == \"bûn\":\n",
        "    i[\"past_root\"] = \"bû\"\n",
        "    i[\"present_root\"] = \"b\"\n",
        "    i[\"stem\"] = i.get(\"word\")[:-3]\n",
        "    i['Transitive'] = False\n",
        "  elif i.get(\"word\")[-3:] == \"dan\":\n",
        "    i[\"past_root\"] = \"da\"\n",
        "    i[\"present_root\"] = \"d\"\n",
        "    i[\"stem\"] = i.get(\"word\")[:-3]\n",
        "    i['Transitive'] = True\n",
        "  elif i.get(\"word\")[-3:] == \"man\":\n",
        "    i[\"past_root\"] = \"ma\"\n",
        "    i[\"present_root\"] = \"mîn\"\n",
        "    i[\"stem\"] = i.get(\"word\")[:-3]\n",
        "    i['Transitive'] = False\n",
        "  elif i.get(\"word\")[-8:] == \"kişandin\":\n",
        "    i[\"past_root\"] = \"kişand\"\n",
        "    i[\"present_root\"] = \"kişîn\"\n",
        "    i[\"stem\"] = i.get(\"word\")[:-8]\n",
        "    i['Transitive'] = True\n",
        "  elif i.get(\"word\")[-6:] == \"şandin\":\n",
        "    i[\"past_root\"] = \"şand\"\n",
        "    i[\"present_root\"] = \"şîn\"\n",
        "    i[\"stem\"] = i.get(\"word\")[:-6]\n",
        "    i['Transitive'] = True\n",
        "  elif i.get(\"word\")[-6:] == \"ajotin\":\n",
        "    i[\"past_root\"] = \"ajot\"\n",
        "    i[\"present_root\"] = \"ajo\"\n",
        "    i['Transitive'] = True\n",
        "  elif i.get(\"word\")[-5:] == \"kirin\":\n",
        "    i[\"past_root\"] = \"kir\"\n",
        "    i[\"present_root\"] = \"k\"\n",
        "    i[\"stem\"] = i.get(\"word\")[:-5]\n",
        "    i['Transitive'] = True\n",
        "  elif i.get(\"word\")[-5:] == \"dîtin\":\n",
        "    i[\"past_root\"] = \"dît\"\n",
        "    i[\"present_root\"] = \"bîn\"\n",
        "    i[\"stem\"] = i.get(\"word\")[:-5]\n",
        "    i['Transitive'] = True  \n",
        "  elif i.get(\"word\")[-6:] == \"girtin\":\n",
        "    i[\"past_root\"] = \"girt\"\n",
        "    i[\"present_root\"] = \"gir\"\n",
        "    i[\"stem\"] = i.get(\"word\")[:-6]\n",
        "    i['Transitive'] = True\n",
        "  elif i.get(\"word\")[-6:] == \"kuştin\":\n",
        "    i[\"past_root\"] = \"kuşt\"\n",
        "    i[\"present_root\"] = \"kuj\"\n",
        "    i[\"stem\"] = i.get(\"word\")[:-6]\n",
        "    i['Transitive'] = True  \n",
        "  elif i.get(\"word\")[-5:] == \"ketin\":\n",
        "    i[\"past_root\"] = \"ket\"\n",
        "    i[\"present_root\"] = \"kev\"\n",
        "    i[\"stem\"] = i.get(\"word\")[:-5]\n",
        "    i['Transitive'] = False\n",
        "  elif i.get(\"word\")[-7:] == \"xwendin\":\n",
        "    i[\"past_root\"] = \"xwend\"\n",
        "    i[\"present_root\"] = \"xwîn\"\n",
        "    i[\"stem\"] = i.get(\"word\")[:-7]\n",
        "    i['Transitive'] = True  \n",
        "  elif i.get(\"word\")[-7:] == \"standin\":\n",
        "    i[\"past_root\"] = \"stand\"\n",
        "    i[\"present_root\"] = \"stîn\"\n",
        "    i[\"stem\"] = i.get(\"word\")[:-7]\n",
        "    i['Transitive'] = True\n",
        "  elif i.get(\"word\")[-5:] == \"andin\":\n",
        "    i[\"past_root\"] = i.get(\"word\")[:-5] + \"and\"\n",
        "    i[\"present_root\"] = i.get(\"word\")[:-5] + \"în\"\n",
        "    i['Transitive'] = True\n",
        "  elif i.get(\"word\")[-2:] == \"in\":\n",
        "    i[\"past_root\"] = i.get(\"word\")[:-2]\n",
        "    i[\"present_root\"] = i.get(\"word\")[:-2]\n",
        "    i['Transitive'] = False\n",
        "  else:\n",
        "    i[\"past_root\"] = \"0\"\n",
        "    i[\"present_root\"] = \"0\"\n",
        "  \n",
        "  kurmanji_verb_list.append(i)\n",
        "\n"
      ],
      "metadata": {
        "id": "7AVia_RCrfkt"
      },
      "execution_count": 20,
      "outputs": []
    },
    {
      "cell_type": "code",
      "source": [
        "with open(\"ferhengo.json\", 'w', encoding=\"utf-8\") as json_file:\n",
        "    json.dump(kurmanji_verb_list, json_file, indent=4, separators=(',', ': '), ensure_ascii=False)"
      ],
      "metadata": {
        "id": "u1tWugcrcvlY"
      },
      "execution_count": 21,
      "outputs": []
    },
    {
      "cell_type": "code",
      "source": [
        "data = kurmanji_verb_list"
      ],
      "metadata": {
        "id": "scHiQTQJsN6o"
      },
      "execution_count": 22,
      "outputs": []
    },
    {
      "cell_type": "code",
      "source": [
        "verb_past_root_transitive = []\n",
        "verb_present_root_transitive = []\n",
        "\n",
        "verb_past_root_intransitive = []\n",
        "verb_present_root_intransitive = []\n",
        "\n",
        "\n",
        "for i in data: \n",
        "  if i.get(\"stem\") == None:\n",
        "    if i.get(\"Transitive\") == True:   \n",
        "      verb_past_root_transitive.append([i.get(\"word\"), i.get(\"past_root\")])\n",
        "      verb_present_root_transitive.append([i.get(\"word\"), i.get(\"present_root\")])\n",
        "    elif i.get(\"Transitive\") == False:   \n",
        "      verb_past_root_intransitive.append([i.get(\"word\"), i.get(\"past_root\")])\n",
        "      verb_present_root_intransitive.append([i.get(\"word\"), i.get(\"present_root\")])\n",
        "  else:\n",
        "    if i.get(\"Transitive\") == True:   \n",
        "      verb_past_root_transitive.append([i.get(\"word\"), i.get(\"past_root\"), i.get(\"stem\")])\n",
        "      verb_present_root_transitive.append([i.get(\"word\"), i.get(\"present_root\"), i.get(\"stem\")])\n",
        "    elif i.get(\"Transitive\") == False:   \n",
        "      verb_past_root_intransitive.append([i.get(\"word\"), i.get(\"past_root\"), i.get(\"stem\")])\n",
        "      verb_present_root_intransitive.append([i.get(\"word\"), i.get(\"present_root\"), i.get(\"stem\")])\n",
        "    "
      ],
      "metadata": {
        "id": "PY_s4Ofjc3p7"
      },
      "execution_count": 26,
      "outputs": []
    },
    {
      "cell_type": "code",
      "source": [
        "words_stems = []\n",
        "words_with_no_stems = []\n",
        "for i in data: \n",
        "  if i.get(\"stem\") != None:\n",
        "    words_stems.append([i.get(\"word\"),i.get(\"stem\")])\n",
        "  else:\n",
        "    words_with_no_stems.append([i.get(\"word\"),i.get(\"present_root\")])\n"
      ],
      "metadata": {
        "id": "fm4u63vfdsRq"
      },
      "execution_count": 27,
      "outputs": []
    },
    {
      "cell_type": "code",
      "source": [
        "# HFST Leker Kurmanji\n",
        "\n",
        "with open(\"kurdish_verb_parser.lexc\",\"w\",encoding=\"utf-8\") as lexc_file:\n",
        "  lexc_file.write(\"\"\"\n",
        "   \n",
        "  LEXICON Root\n",
        "          Verbs_intransitive ; ! No input, no output\n",
        "          Verbs_transitive ; ! No input, no output\n",
        "         \n",
        "\n",
        "Futureprefix+:ê%     Stem ;\n",
        "Futureprefix+:ê%     Future_with_no_prebase ;\n",
        "Present+:di        Verbs_future_present;\n",
        "\n",
        "  LEXICON Stem\n",
        "  \"\"\")\n",
        "  [lexc_file.write(f\"{i[0]}:{i[1]}\\t Future ;\\n\") for i in words_stems]\n",
        "  lexc_file.write(\"\"\"\n",
        "\n",
        "  LEXICON Future\n",
        "\n",
        "  +Future+:bi      Verbs_future_present;\n",
        "\n",
        "  LEXICON Future_with_no_prebase\n",
        "\n",
        "  Future+:bi      Verbs_future_present;\n",
        "\n",
        "\n",
        "  LEXICON Verbs_future_present\n",
        "  \"\"\")\n",
        "  [lexc_file.write(f\"{i[0]}:{i[1]}\\t Verb ;\\n\") for i in verb_present_root_transitive]\n",
        "  [lexc_file.write(f\"{i[0]}:{i[1]}\\t Verb ;\\n\") for i in verb_present_root_intransitive]\n",
        "  lexc_file.write(\"\"\"\n",
        "\n",
        "  LEXICON Verb\n",
        "  +Verb:0    Subject_verb_agreement ;\n",
        "\n",
        "  LEXICON Subject_verb_agreement\n",
        "  +A1sg:im   # ;\n",
        "  +A2sg:î    # ;\n",
        "  +A3sg:e    # ;\n",
        "  +A1pl:in   # ;\n",
        "  +A2pl:in   # ;\n",
        "  +A3pl:in   # ;   \n",
        "\n",
        "  LEXICON Verbs_intransitive\n",
        "  \"\"\")\n",
        "  [lexc_file.write(f\"{i[0]}:{i[1]}\\t Verb_intransitive_0 ;\\n\") for i in verb_past_root_intransitive]\n",
        "  lexc_file.write(\"\"\"\n",
        "\n",
        "\n",
        "  LEXICON Verb_intransitive_0\n",
        "  +Verb+Past:0    Subject_verb_agreement_intransitive ;\n",
        "\n",
        "  LEXICON Subject_verb_agreement_intransitive\n",
        "  +A1sg:im   # ;  \n",
        "  +A2sg:î    # ;\n",
        "  +A3sg:0    # ;\n",
        "  +A1pl:in   # ;\n",
        "  +A2pl:in   # ;\n",
        "  +A3pl:in   # ; \n",
        "\n",
        "  LEXICON Verbs_transitive\n",
        "  \"\"\")\n",
        "  [lexc_file.write(f\"{i[0]}:{i[1]}\\t Verb_transitive_0 ;\\n\") for i in verb_past_root_transitive]\n",
        "  lexc_file.write(\"\"\"\n",
        "\n",
        "  LEXICON Verb_transitive_0\n",
        "  +Verb+Past:0    Subject_verb_agreement_transitive ;\n",
        "\n",
        "  LEXICON Subject_verb_agreement_transitive\n",
        "  +O_Sg:0   # ;\n",
        "  +O_Pl:in    # ;\n",
        "  \n",
        "\n",
        "  END\n",
        "  \"\"\")"
      ],
      "metadata": {
        "id": "jd9Te21lc2BF"
      },
      "execution_count": 28,
      "outputs": []
    },
    {
      "cell_type": "code",
      "source": [
        "kurdish_verb = compile_lexc_file(\"kurdish_verb_parser.lexc\",verbosity=1)\n",
        "kurdish_verb.minimize()"
      ],
      "metadata": {
        "colab": {
          "base_uri": "https://localhost:8080/"
        },
        "id": "9KsGUdvaE9ge",
        "outputId": "86e48b72-d12b-4cef-9b9a-26ff77165cc1"
      },
      "execution_count": 29,
      "outputs": [
        {
          "output_type": "stream",
          "name": "stderr",
          "text": [
            "\n"
          ]
        }
      ]
    },
    {
      "cell_type": "code",
      "source": [
        "def find(lst, key, value):\n",
        "    for i, dic in enumerate(lst):\n",
        "        if dic[key] == value:\n",
        "            return i\n",
        "    return -1"
      ],
      "metadata": {
        "id": "eNK-asXjxPBE"
      },
      "execution_count": 30,
      "outputs": []
    },
    {
      "cell_type": "code",
      "source": [
        "def erase_duplicate(word):\n",
        "  if word[-1] in 'aeiouûî' and word[-2] in 'aeiouûî':\n",
        "    new_word = word[:-1]\n",
        "    return new_word\n",
        "  elif word[-2] in 'aeiouûî' and word[-3] in 'aeiouûî':\n",
        "    consanant_ending = word[:len(word)-2] + word[len(word)-1:]\n",
        "    return consanant_ending\n",
        "  else:\n",
        "    return word"
      ],
      "metadata": {
        "id": "NdPKMVzCv717"
      },
      "execution_count": 31,
      "outputs": []
    },
    {
      "cell_type": "code",
      "source": [
        "import editdistance as editdistance\n",
        "\n",
        "def autocorrect(word, n=6):\n",
        "    if word in data:\n",
        "        return word\n",
        "    else:\n",
        "        candidates = {}\n",
        "        for correct_word in data:\n",
        "            distance = editdistance.distance(word, correct_word[\"word\"])\n",
        "            candidates[correct_word[\"word\"]] = distance\n",
        "\n",
        "        minimum_dist = min(candidates.values())\n",
        "        possible_verbs = []\n",
        "        for k, v in candidates.items():\n",
        "            if v == minimum_dist:\n",
        "                possible_verbs.append(k)\n",
        "\n",
        "        if len(possible_verbs) == 1:\n",
        "            print(f\"Did you mean {possible_verbs[0]}?\\n\")\n",
        "            return possible_verbs[0]\n",
        "\n",
        "        elif len(possible_verbs) > 0:\n",
        "            print(\"Did you mean one of the following verbs?\")\n",
        "            for i, verb in enumerate(possible_verbs, start=1):\n",
        "                print(f\"{i}. {verb}\")\n",
        "\n",
        "            while True:\n",
        "                choice = input(\"Please enter the number of the verb you choose: \")\n",
        "                try:\n",
        "                    choice = int(choice)\n",
        "                    if 1 <= choice <= len(possible_verbs):\n",
        "                        return possible_verbs[choice - 1]\n",
        "                    else:\n",
        "                        print(\"Invalid choice. Please enter a valid number.\")\n",
        "                except ValueError:\n",
        "                    print(\"Invalid choice. Please enter a valid number.\")\n",
        "        \n",
        "        else:\n",
        "            return None  # No possible corrections found\n",
        "\n",
        "        word = input(\"Enter a word: \")\n",
        "        corrected_verb = autocorrect(word)\n",
        "        if corrected_verb:\n",
        "            return corrected_verb\n",
        "        else:\n",
        "            print(\"No correction found.\")\n"
      ],
      "metadata": {
        "id": "jqQ6lGlDpm18"
      },
      "execution_count": 45,
      "outputs": []
    },
    {
      "cell_type": "code",
      "source": [
        "def get_info(d, tense='all'):\n",
        "  \n",
        "  if tense == 'present' or tense=='all':\n",
        "    if 'stem' in d.keys():\n",
        "      print(\"Ez\",d['stem'],erase_duplicate(kurdish_verb.lookup(f\"Present+{d['word']}+Verb+A1sg\")[0][0]))\n",
        "      print(\"Tu\",d['stem'],erase_duplicate(kurdish_verb.lookup(f\"Present+{d['word']}+Verb+A2sg\")[0][0]))\n",
        "      print(\"Ew\",d['stem'],erase_duplicate(kurdish_verb.lookup(f\"Present+{d['word']}+Verb+A3sg\")[0][0]))\n",
        "      print(\"Em\",d['stem'],erase_duplicate(kurdish_verb.lookup(f\"Present+{d['word']}+Verb+A1pl\")[0][0]))\n",
        "      print(\"Hun\",d['stem'],erase_duplicate(kurdish_verb.lookup(f\"Present+{d['word']}+Verb+A2pl\")[0][0]))\n",
        "      print(\"Ew\",d['stem'],erase_duplicate(kurdish_verb.lookup(f\"Present+{d['word']}+Verb+A3pl\")[0][0]))\n",
        "    else:\n",
        "      print(\"Ez\",erase_duplicate(kurdish_verb.lookup(f\"Present+{d['word']}+Verb+A1sg\")[0][0]))\n",
        "      print(\"Tu\",erase_duplicate(kurdish_verb.lookup(f\"Present+{d['word']}+Verb+A2sg\")[0][0]))\n",
        "      print(\"Ew\",erase_duplicate(kurdish_verb.lookup(f\"Present+{d['word']}+Verb+A3sg\")[0][0]))\n",
        "      print(\"Em\",erase_duplicate(kurdish_verb.lookup(f\"Present+{d['word']}+Verb+A1pl\")[0][0]))\n",
        "      print(\"Hun\",erase_duplicate(kurdish_verb.lookup(f\"Present+{d['word']}+Verb+A2pl\")[0][0]))\n",
        "      print(\"Ew\",erase_duplicate(kurdish_verb.lookup(f\"Present+{d['word']}+Verb+A3pl\")[0][0]))\n",
        "\n",
        "  if tense == 'future' or tense=='all':\n",
        "    if 'stem' in d.keys():\n",
        "      print(\"Ez\",erase_duplicate(kurdish_verb.lookup(f\"Futureprefix+{d['word']}+Future+{d['word']}+Verb+A1sg\")[0][0]))\n",
        "      print(\"Tu\",erase_duplicate(kurdish_verb.lookup(f\"Futureprefix+{d['word']}+Future+{d['word']}+Verb+A2sg\")[0][0]))\n",
        "      print(\"Ew\",erase_duplicate(kurdish_verb.lookup(f\"Futureprefix+{d['word']}+Future+{d['word']}+Verb+A3sg\")[0][0]))\n",
        "      print(\"Em\",erase_duplicate(kurdish_verb.lookup(f\"Futureprefix+{d['word']}+Future+{d['word']}+Verb+A1pl\")[0][0]))\n",
        "      print(\"Hun\",erase_duplicate(kurdish_verb.lookup(f\"Futureprefix+{d['word']}+Future+{d['word']}+Verb+A2pl\")[0][0]))\n",
        "      print(\"Ew\",erase_duplicate(kurdish_verb.lookup(f\"Futureprefix+{d['word']}+Future+{d['word']}+Verb+A3pl\")[0][0]))\n",
        "    else:\n",
        "      print(\"Ez\",erase_duplicate(kurdish_verb.lookup(f\"Futureprefix+Future+{d['word']}+Verb+A1sg\")[0][0]))\n",
        "      print(\"Tu\",erase_duplicate(kurdish_verb.lookup(f\"Futureprefix+Future+{d['word']}+Verb+A2sg\")[0][0]))\n",
        "      print(\"Ew\",erase_duplicate(kurdish_verb.lookup(f\"Futureprefix+Future+{d['word']}+Verb+A3sg\")[0][0]))\n",
        "      print(\"Em\",erase_duplicate(kurdish_verb.lookup(f\"Futureprefix+Future+{d['word']}+Verb+A1pl\")[0][0]))\n",
        "      print(\"Hun\",erase_duplicate(kurdish_verb.lookup(f\"Futureprefix+Future+{d['word']}+Verb+A2pl\")[0][0]))\n",
        "      print(\"Ew\",erase_duplicate(kurdish_verb.lookup(f\"Futureprefix+Future+{d['word']}+Verb+A3pl\")[0][0]))\n",
        "\n",
        "  if tense == 'past' or tense=='all':\n",
        "    if d[\"Transitive\"]:\n",
        "      if 'stem' in d.keys():\n",
        "        print(\"Min\",\"ew\",d['stem'],erase_duplicate(kurdish_verb.lookup(f\"{d['word']}+Verb+Past+O_Sg\")[0][0]))\n",
        "        print(\"Te\",\"ew\",d['stem'],erase_duplicate(kurdish_verb.lookup(f\"{d['word']}+Verb+Past+O_Sg\")[0][0]))\n",
        "        print(\"Wi/wê\",\"ew\",d['stem'],erase_duplicate(kurdish_verb.lookup(f\"{d['word']}+Verb+Past+O_Sg\")[0][0]))\n",
        "        print(\"Me\",\"ew\",d['stem'],erase_duplicate(kurdish_verb.lookup(f\"{d['word']}+Verb+Past+O_Sg\")[0][0]))\n",
        "        print(\"We\",\"ew\",d['stem'],erase_duplicate(kurdish_verb.lookup(f\"{d['word']}+Verb+Past+O_Sg\")[0][0]))\n",
        "        print(\"Wê\",\"ew\",d['stem'],erase_duplicate(kurdish_verb.lookup(f\"{d['word']}+Verb+Past+O_Sg\")[0][0]))\n",
        "      else:\n",
        "        print(\"Min\",\"ew\",erase_duplicate(kurdish_verb.lookup(f\"{d['word']}+Verb+Past+O_Sg\")[0][0]))\n",
        "        print(\"Te\",\"ew\",erase_duplicate(kurdish_verb.lookup(f\"{d['word']}+Verb+Past+O_Sg\")[0][0]))\n",
        "        print(\"Wi/wê\",\"ew\",erase_duplicate(kurdish_verb.lookup(f\"{d['word']}+Verb+Past+O_Sg\")[0][0]))\n",
        "        print(\"Me\",\"ew\",erase_duplicate(kurdish_verb.lookup(f\"{d['word']}+Verb+Past+O_Sg\")[0][0]))\n",
        "        print(\"We\",\"ew\",erase_duplicate(kurdish_verb.lookup(f\"{d['word']}+Verb+Past+O_Sg\")[0][0]))\n",
        "        print(\"Wê\",\"ew\",erase_duplicate(kurdish_verb.lookup(f\"{d['word']}+Verb+Past+O_Sg\")[0][0]))\n",
        "    else:\n",
        "      if 'stem' in d.keys():\n",
        "        print(\"Ez\",d['stem'],erase_duplicate(kurdish_verb.lookup(f\"{d['word']}+Verb+Past+A1sg\")[0][0]))\n",
        "        print(\"Tu\",d['stem'],erase_duplicate(kurdish_verb.lookup(f\"{d['word']}+Verb+Past+A2sg\")[0][0]))\n",
        "        print(\"Ew\",d['stem'],erase_duplicate(kurdish_verb.lookup(f\"{d['word']}+Verb+Past+A3sg\")[0][0]))\n",
        "        print(\"Em\",d['stem'],erase_duplicate(kurdish_verb.lookup(f\"{d['word']}+Verb+Past+A1pl\")[0][0]))\n",
        "        print(\"Hun\",d['stem'],erase_duplicate(kurdish_verb.lookup(f\"{d['word']}+Verb+Past+A2pl\")[0][0]))\n",
        "        print(\"Ew\",d['stem'],erase_duplicate(kurdish_verb.lookup(f\"{d['word']}+Verb+Past+A3pl\")[0][0]))\n",
        "      else:\n",
        "        print(\"Ez\",erase_duplicate(kurdish_verb.lookup(f\"{d['word']}+Verb+Past+A1sg\")[0][0]))\n",
        "        print(\"Tu\",erase_duplicate(kurdish_verb.lookup(f\"{d['word']}+Verb+Past+A2sg\")[0][0]))\n",
        "        print(\"Ew\",erase_duplicate(kurdish_verb.lookup(f\"{d['word']}+Verb+Past+A3sg\")[0][0]))\n",
        "        print(\"Em\",erase_duplicate(kurdish_verb.lookup(f\"{d['word']}+Verb+Past+A1pl\")[0][0]))\n",
        "        print(\"Hun\",erase_duplicate(kurdish_verb.lookup(f\"{d['word']}+Verb+Past+A2pl\")[0][0]))\n",
        "        print(\"Ew\",erase_duplicate(kurdish_verb.lookup(f\"{d['word']}+Verb+Past+A3pl\")[0][0]))"
      ],
      "metadata": {
        "id": "PeHozMc4hSNm"
      },
      "execution_count": 49,
      "outputs": []
    },
    {
      "cell_type": "code",
      "source": [
        "def print_result(verb, tense=\"all\"):\n",
        "  correct_verb = autocorrect(verb)\n",
        "  i=find(data, \"word\", correct_verb)\n",
        "  get_info(data[i], tense)\n"
      ],
      "metadata": {
        "id": "H7zDwEOlRyiE"
      },
      "execution_count": 50,
      "outputs": []
    },
    {
      "cell_type": "code",
      "source": [
        "# TEST CASES"
      ],
      "metadata": {
        "id": "Ke7AvP_2jp8I"
      },
      "execution_count": null,
      "outputs": []
    },
    {
      "cell_type": "code",
      "source": [
        "print_result(\"acizbûn\") #intransive and a compound verb"
      ],
      "metadata": {
        "id": "pVkvBOEER1Xi"
      },
      "execution_count": null,
      "outputs": []
    },
    {
      "cell_type": "code",
      "source": [
        "print_result(\"ditin\") # if the user misspell a verb, autocorrect function start to work and gives response."
      ],
      "metadata": {
        "id": "oSMSMEb_hGLz"
      },
      "execution_count": null,
      "outputs": []
    },
    {
      "cell_type": "code",
      "source": [
        "print_result(\"dîtin\", tense=\"past\") #if the user tense parameter into function, it only gives the tense that the user put"
      ],
      "metadata": {
        "colab": {
          "base_uri": "https://localhost:8080/"
        },
        "id": "apbqCNw7kfEd",
        "outputId": "35f07731-5962-4869-c17a-250d9ed6b3a1"
      },
      "execution_count": 51,
      "outputs": [
        {
          "output_type": "stream",
          "name": "stdout",
          "text": [
            "Did you mean dîtin?\n",
            "\n",
            "Min ew  dît\n",
            "Te ew  dît\n",
            "Wi/wê ew  dît\n",
            "Me ew  dît\n",
            "We ew  dît\n",
            "Wê ew  dît\n"
          ]
        }
      ]
    }
  ]
}